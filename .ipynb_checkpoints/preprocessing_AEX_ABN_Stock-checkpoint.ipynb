{
 "cells": [
  {
   "cell_type": "code",
   "execution_count": 1,
   "metadata": {},
   "outputs": [],
   "source": [
    "import os\n",
    "import pandas as pd\n",
    "import numpy as np\n",
    "import matplotlib.pyplot as plt\n",
    "import seaborn as sns"
   ]
  },
  {
   "cell_type": "code",
   "execution_count": 2,
   "metadata": {},
   "outputs": [
    {
     "name": "stdout",
     "output_type": "stream",
     "text": [
      "Files and directories in aex_data/ :\n",
      ".ipynb_checkpoints\n",
      "ABN_data_2015-11-20_2024-04-11.csv\n",
      "ABN_data_2022-01-01_2022-12-31.csv\n",
      "ADYEN_data_2018-06-13_2024-04-11.csv\n",
      "ADYEN_data_2022-01-01_2022-12-31.csv\n",
      "AD_data_2008-10-24_2024-04-11.csv\n",
      "AD_data_2022-01-01_2022-12-31.csv\n",
      "AGN_data_1995-03-27_2024-04-11.csv\n",
      "AGN_data_2022-01-01_2022-12-31.csv\n",
      "AKZA_data_1995-03-27_2024-04-11.csv\n",
      "AKZA_data_2022-01-01_2022-12-31.csv\n",
      "ASML_data_1998-07-20_2024-04-11.csv\n",
      "ASML_data_2022-01-01_2022-12-31.csv\n",
      "ASM_data_1999-01-06_2024-04-11.csv\n",
      "ASM_data_2022-01-01_2022-12-31.csv\n",
      "ASRNL_data_2016-06-10_2024-04-11.csv\n",
      "ASRNL_data_2022-01-01_2022-12-31.csv\n",
      "BESI_data_1998-07-20_2024-04-11.csv\n",
      "BESI_data_2022-01-01_2022-12-31.csv\n",
      "HEIA_data_1995-03-27_2024-04-11.csv\n",
      "HEIA_data_2022-01-01_2022-12-31.csv\n",
      "IMCD_data_2014-06-27_2024-04-11.csv\n",
      "IMCD_data_2022-01-01_2022-12-31.csv\n",
      "INGA_data_1995-03-27_2024-04-11.csv\n",
      "INGA_data_2022-01-01_2022-12-31.csv\n",
      "KPN_data_1995-03-27_2024-04-11.csv\n",
      "KPN_data_2022-01-01_2022-12-31.csv\n",
      "MT_data_2005-07-25_2024-04-11.csv\n",
      "MT_data_2022-01-01_2022-12-31.csv\n",
      "NN_data_2014-07-02_2024-04-11.csv\n",
      "NN_data_2022-01-01_2022-12-31.csv\n",
      "PHIA_data_1995-03-27_2024-04-11.csv\n",
      "PHIA_data_2022-01-01_2022-12-31.csv\n",
      "PRX_data_2019-09-11_2024-04-11.csv\n",
      "PRX_data_2022-01-01_2022-12-31.csv\n",
      "RAND_data_1995-05-11_2024-04-11.csv\n",
      "RAND_data_2022-01-01_2022-12-31.csv\n",
      "REN_data_1995-03-27_2024-04-11.csv\n",
      "REN_data_2022-01-01_2022-12-31.csv\n",
      "UMG_data_2021-09-21_2024-04-11.csv\n",
      "UMG_data_2022-01-01_2022-12-31.csv\n",
      "UNA_data_2020-12-04_2024-04-11.csv\n",
      "UNA_data_2022-01-01_2022-12-31.csv\n",
      "WKL_data_1995-03-27_2024-04-11.csv\n",
      "WKL_data_2022-01-01_2022-12-31.csv\n"
     ]
    }
   ],
   "source": [
    "# Directory path\n",
    "cwd = os.getcwd()\n",
    "directory = \"aex_data/\"\n",
    "\n",
    "# List files and directories in the directory\n",
    "files_and_directories = os.listdir(directory)\n",
    "\n",
    "# Print the list\n",
    "print(\"Files and directories in\", directory, \":\")\n",
    "for item in files_and_directories:\n",
    "    print(item)"
   ]
  },
  {
   "cell_type": "code",
   "execution_count": 3,
   "metadata": {},
   "outputs": [],
   "source": [
    "df_ABN = pd.read_csv(\"aex_data/ABN_data_2015-11-20_2024-04-11.csv\")"
   ]
  },
  {
   "cell_type": "code",
   "execution_count": 4,
   "metadata": {},
   "outputs": [
    {
     "name": "stdout",
     "output_type": "stream",
     "text": [
      "Total null values in the Dataframe - ABN_data_2015-11-20_2024-04-11: 0\n"
     ]
    }
   ],
   "source": [
    "print(f\"Total null values in the Dataframe - ABN_data_2015-11-20_2024-04-11: {df_ABN.isnull().sum().sum()}\")"
   ]
  },
  {
   "cell_type": "code",
   "execution_count": 5,
   "metadata": {},
   "outputs": [],
   "source": [
    "df_ABN_dropna = df_ABN.dropna(axis=0, how='any')"
   ]
  },
  {
   "cell_type": "code",
   "execution_count": 6,
   "metadata": {},
   "outputs": [
    {
     "data": {
      "text/plain": [
       "<function matplotlib.pyplot.show(*args, **kw)>"
      ]
     },
     "execution_count": 6,
     "metadata": {},
     "output_type": "execute_result"
    },
    {
     "data": {
      "image/png": "[encoded data removed]",
      "text/plain": [
       "<Figure size 432x288 with 1 Axes>"
      ]
     },
     "metadata": {
      "needs_background": "light"
     },
     "output_type": "display_data"
    }
   ],
   "source": [
    "sns.heatmap (df_ABN_dropna.isna(), cbar=False, cmap='viridis')\n",
    "plt.show"
   ]
  },
  {
   "cell_type": "code",
   "execution_count": 7,
   "metadata": {},
   "outputs": [
    {
     "name": "stdout",
     "output_type": "stream",
     "text": [
      "Total duplicated values in the Dataframe - df_ABN: 0\n"
     ]
    }
   ],
   "source": [
    "print(f\"Total duplicated values in the Dataframe - df_ABN: {df_ABN_dropna['Date'].duplicated().sum().sum()}\") "
   ]
  },
  {
   "cell_type": "code",
   "execution_count": 8,
   "metadata": {},
   "outputs": [
    {
     "name": "stdout",
     "output_type": "stream",
     "text": [
      "Dataframe has been written to C:\\Users\\hugos\\Desktop\\PersonalProject\\predictiveForecasting\\aex_data/ABN_data_2015-11-20_2024-04-11.csv with overwriting permissions\n"
     ]
    }
   ],
   "source": [
    "file_path = os.path.join(cwd, 'aex_data/ABN_data_2015-11-20_2024-04-11.csv')\n",
    "df_ABN_dropna.to_csv(file_path, mode= 'w', index=False)\n",
    "print (f'Dataframe has been written to {file_path} with overwriting permissions')"
   ]
  }
 ],
 "metadata": {
  "kernelspec": {
   "display_name": "Python 3",
   "language": "python",
   "name": "python3"
  },
  "language_info": {
   "codemirror_mode": {
    "name": "ipython",
    "version": 3
   },
   "file_extension": ".py",
   "mimetype": "text/x-python",
   "name": "python",
   "nbconvert_exporter": "python",
   "pygments_lexer": "ipython3",
   "version": "3.8.3"
  }
 },
 "nbformat": 4,
 "nbformat_minor": 4
}
