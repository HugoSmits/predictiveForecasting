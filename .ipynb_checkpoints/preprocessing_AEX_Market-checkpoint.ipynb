{
 "cells": [
  {
   "cell_type": "markdown",
   "metadata": {},
   "source": [
    "# Introduction\n",
    "\n",
    "Fetching the data from AEX for all the stocks scraped from the list acquired on wikipedia"
   ]
  },
  {
   "cell_type": "markdown",
   "metadata": {},
   "source": [
    "## Preamble"
   ]
  },
  {
   "cell_type": "code",
   "execution_count": 1,
   "metadata": {},
   "outputs": [],
   "source": [
    "import os\n",
    "import time\n",
    "\n",
    "import pandas as pd\n",
    "import numpy as np\n",
    "import matplotlib.pyplot as plt\n",
    "import seaborn as sns\n",
    "\n",
    "import yfinance as yf\n",
    "import requests\n",
    "from bs4 import BeautifulSoup"
   ]
  },
  {
   "cell_type": "code",
   "execution_count": 2,
   "metadata": {},
   "outputs": [
    {
     "name": "stdout",
     "output_type": "stream",
     "text": [
      "0.2.37\n"
     ]
    }
   ],
   "source": [
    "print(yf.__version__)  # Prints the version of pandas"
   ]
  },
  {
   "cell_type": "code",
   "execution_count": 3,
   "metadata": {},
   "outputs": [],
   "source": [
    "cwd = os.getcwd()"
   ]
  },
  {
   "cell_type": "code",
   "execution_count": 4,
   "metadata": {},
   "outputs": [],
   "source": [
    "#print(dir(yf))"
   ]
  },
  {
   "cell_type": "code",
   "execution_count": 5,
   "metadata": {},
   "outputs": [],
   "source": [
    "#print(dir(yf.Ticker))"
   ]
  },
  {
   "cell_type": "code",
   "execution_count": 6,
   "metadata": {},
   "outputs": [],
   "source": [
    "#print(dir(yf.Tickers))"
   ]
  },
  {
   "cell_type": "markdown",
   "metadata": {},
   "source": [
    "## Web Scraper"
   ]
  },
  {
   "cell_type": "code",
   "execution_count": 7,
   "metadata": {},
   "outputs": [],
   "source": [
    "import requests\n",
    "from bs4 import BeautifulSoup\n",
    "import pandas as pd\n",
    "\n",
    "# URL of the Wikipedia page for the AEX index\n",
    "url = \"https://nl.wikipedia.org/wiki/AEX\"\n",
    "\n",
    "# Send a GET request to the Wikipedia page\n",
    "response = requests.get(url)\n",
    "\n",
    "# Check if the request was successful (status code 200)\n",
    "if response.status_code == 200:\n",
    "    # Parse the HTML content of the page using BeautifulSoup\n",
    "    soup = BeautifulSoup(response.text, \"html.parser\")\n",
    "    \n",
    "    # Find all tables on the page\n",
    "    tables = soup.find_all(\"table\", class_=\"wikitable sortable\")\n",
    "    \n",
    "    # Check if there are at least two tables\n",
    "    if len(tables) >= 2:\n",
    "        # Extract the second table (index 1)\n",
    "        table = tables[1]\n",
    "        \n",
    "        # Extract the rows from the table\n",
    "        rows = table.find_all(\"tr\")\n",
    "        \n",
    "        # Extract the column headers\n",
    "        headers = [header.text.strip() for header in rows[0].find_all(\"th\")]\n",
    "        \n",
    "        # Extract the data from the table rows\n",
    "        data = []\n",
    "        for row in rows[1:]:\n",
    "            data.append([cell.text.strip() for cell in row.find_all(\"td\")])\n",
    "        \n",
    "        # Convert the data to a DataFrame\n",
    "        df = pd.DataFrame(data, columns=headers)\n",
    "        \n",
    "        # Print the DataFrame\n",
    "        #print(\"DataFrame for the second table on AEX index:\")\n",
    "        #print(df)\n",
    "    else:\n",
    "        print(\"Second table not found on the page.\")\n",
    "else:\n",
    "    print(\"Failed to retrieve data from Wikipedia.\")\n"
   ]
  },
  {
   "cell_type": "code",
   "execution_count": 8,
   "metadata": {},
   "outputs": [
    {
     "name": "stdout",
     "output_type": "stream",
     "text": [
      "['ABN', 'ADYEN', 'AGN', 'AD', 'AKZA', 'MT', 'ASM', 'ASML', 'ASRNL', 'BESI', 'DSM', 'EXOR', 'HEIA', 'IMCD', 'INGA', 'KPN', 'NN', 'PHIA', 'PRX', 'RAND', 'REN', 'RDSA', 'UNA', 'UMG', 'WKL']\n"
     ]
    }
   ],
   "source": [
    "print(df[\"Ticker symbol\"].tolist())"
   ]
  },
  {
   "cell_type": "markdown",
   "metadata": {},
   "source": [
    "## Stocks Fetcher"
   ]
  },
  {
   "cell_type": "code",
   "execution_count": 9,
   "metadata": {},
   "outputs": [
    {
     "name": "stdout",
     "output_type": "stream",
     "text": [
      "Output directory 'aex_data/' already exists.\n"
     ]
    },
    {
     "name": "stderr",
     "output_type": "stream",
     "text": [
      "[*********************100%%**********************]  1 of 1 completed\n",
      "[*********************100%%**********************]  1 of 1 completed\n"
     ]
    },
    {
     "name": "stdout",
     "output_type": "stream",
     "text": [
      "Successfully downloaded data for ABN\n",
      "Data saved for ABN. To C:\\Users\\hugos\\Desktop\\PersonalProject\\predictiveForecasting\\aex_data/ABN_data_2022-01-01_2022-12-31.csv with overwriting permissions'\n",
      "Successfully downloaded data for ADYEN\n",
      "Data saved for ADYEN. To C:\\Users\\hugos\\Desktop\\PersonalProject\\predictiveForecasting\\aex_data/ADYEN_data_2022-01-01_2022-12-31.csv with overwriting permissions'\n"
     ]
    },
    {
     "name": "stderr",
     "output_type": "stream",
     "text": [
      "[*********************100%%**********************]  1 of 1 completed\n",
      "[*********************100%%**********************]  1 of 1 completed\n"
     ]
    },
    {
     "name": "stdout",
     "output_type": "stream",
     "text": [
      "Successfully downloaded data for AGN\n",
      "Data saved for AGN. To C:\\Users\\hugos\\Desktop\\PersonalProject\\predictiveForecasting\\aex_data/AGN_data_2022-01-01_2022-12-31.csv with overwriting permissions'\n",
      "Successfully downloaded data for AD\n",
      "Data saved for AD. To C:\\Users\\hugos\\Desktop\\PersonalProject\\predictiveForecasting\\aex_data/AD_data_2022-01-01_2022-12-31.csv with overwriting permissions'\n"
     ]
    },
    {
     "name": "stderr",
     "output_type": "stream",
     "text": [
      "[*********************100%%**********************]  1 of 1 completed\n",
      "[*********************100%%**********************]  1 of 1 completed\n"
     ]
    },
    {
     "name": "stdout",
     "output_type": "stream",
     "text": [
      "Successfully downloaded data for AKZA\n",
      "Data saved for AKZA. To C:\\Users\\hugos\\Desktop\\PersonalProject\\predictiveForecasting\\aex_data/AKZA_data_2022-01-01_2022-12-31.csv with overwriting permissions'\n",
      "Successfully downloaded data for MT\n",
      "Data saved for MT. To C:\\Users\\hugos\\Desktop\\PersonalProject\\predictiveForecasting\\aex_data/MT_data_2022-01-01_2022-12-31.csv with overwriting permissions'\n"
     ]
    },
    {
     "name": "stderr",
     "output_type": "stream",
     "text": [
      "[*********************100%%**********************]  1 of 1 completed\n",
      "[*********************100%%**********************]  1 of 1 completed"
     ]
    },
    {
     "name": "stdout",
     "output_type": "stream",
     "text": [
      "Successfully downloaded data for ASM\n",
      "Data saved for ASM. To C:\\Users\\hugos\\Desktop\\PersonalProject\\predictiveForecasting\\aex_data/ASM_data_2022-01-01_2022-12-31.csv with overwriting permissions'\n"
     ]
    },
    {
     "name": "stderr",
     "output_type": "stream",
     "text": [
      "\n",
      "[*********************100%%**********************]  1 of 1 completed\n"
     ]
    },
    {
     "name": "stdout",
     "output_type": "stream",
     "text": [
      "Successfully downloaded data for ASML\n",
      "Data saved for ASML. To C:\\Users\\hugos\\Desktop\\PersonalProject\\predictiveForecasting\\aex_data/ASML_data_2022-01-01_2022-12-31.csv with overwriting permissions'\n",
      "Successfully downloaded data for ASRNL\n",
      "Data saved for ASRNL. To C:\\Users\\hugos\\Desktop\\PersonalProject\\predictiveForecasting\\aex_data/ASRNL_data_2022-01-01_2022-12-31.csv with overwriting permissions'\n"
     ]
    },
    {
     "name": "stderr",
     "output_type": "stream",
     "text": [
      "[*********************100%%**********************]  1 of 1 completed\n"
     ]
    },
    {
     "name": "stdout",
     "output_type": "stream",
     "text": [
      "Successfully downloaded data for BESI\n",
      "Data saved for BESI. To C:\\Users\\hugos\\Desktop\\PersonalProject\\predictiveForecasting\\aex_data/BESI_data_2022-01-01_2022-12-31.csv with overwriting permissions'\n"
     ]
    },
    {
     "name": "stderr",
     "output_type": "stream",
     "text": [
      "[*********************100%%**********************]  1 of 1 completed\n",
      "\n",
      "1 Failed download:\n",
      "['DSM.AS']: Exception('%ticker%: No timezone found, symbol may be delisted')\n"
     ]
    },
    {
     "name": "stdout",
     "output_type": "stream",
     "text": [
      "Downloaded data for DSM is empty.\n"
     ]
    },
    {
     "name": "stderr",
     "output_type": "stream",
     "text": [
      "[*********************100%%**********************]  1 of 1 completed\n",
      "\n",
      "1 Failed download:\n",
      "['EXOR.AS']: Exception('%ticker%: No timezone found, symbol may be delisted')\n",
      "[*********************100%%**********************]  1 of 1 completed\n"
     ]
    },
    {
     "name": "stdout",
     "output_type": "stream",
     "text": [
      "Downloaded data for EXOR is empty.\n",
      "Successfully downloaded data for HEIA\n",
      "Data saved for HEIA. To C:\\Users\\hugos\\Desktop\\PersonalProject\\predictiveForecasting\\aex_data/HEIA_data_2022-01-01_2022-12-31.csv with overwriting permissions'\n"
     ]
    },
    {
     "name": "stderr",
     "output_type": "stream",
     "text": [
      "[*********************100%%**********************]  1 of 1 completed\n",
      "[*********************100%%**********************]  1 of 1 completed\n"
     ]
    },
    {
     "name": "stdout",
     "output_type": "stream",
     "text": [
      "Successfully downloaded data for IMCD\n",
      "Data saved for IMCD. To C:\\Users\\hugos\\Desktop\\PersonalProject\\predictiveForecasting\\aex_data/IMCD_data_2022-01-01_2022-12-31.csv with overwriting permissions'\n",
      "Successfully downloaded data for INGA\n",
      "Data saved for INGA. To C:\\Users\\hugos\\Desktop\\PersonalProject\\predictiveForecasting\\aex_data/INGA_data_2022-01-01_2022-12-31.csv with overwriting permissions'\n"
     ]
    },
    {
     "name": "stderr",
     "output_type": "stream",
     "text": [
      "[*********************100%%**********************]  1 of 1 completed\n",
      "[*********************100%%**********************]  1 of 1 completed\n"
     ]
    },
    {
     "name": "stdout",
     "output_type": "stream",
     "text": [
      "Successfully downloaded data for KPN\n",
      "Data saved for KPN. To C:\\Users\\hugos\\Desktop\\PersonalProject\\predictiveForecasting\\aex_data/KPN_data_2022-01-01_2022-12-31.csv with overwriting permissions'\n",
      "Successfully downloaded data for NN\n",
      "Data saved for NN. To C:\\Users\\hugos\\Desktop\\PersonalProject\\predictiveForecasting\\aex_data/NN_data_2022-01-01_2022-12-31.csv with overwriting permissions'\n"
     ]
    },
    {
     "name": "stderr",
     "output_type": "stream",
     "text": [
      "[*********************100%%**********************]  1 of 1 completed\n",
      "[*********************100%%**********************]  1 of 1 completed"
     ]
    },
    {
     "name": "stdout",
     "output_type": "stream",
     "text": [
      "Successfully downloaded data for PHIA\n",
      "Data saved for PHIA. To C:\\Users\\hugos\\Desktop\\PersonalProject\\predictiveForecasting\\aex_data/PHIA_data_2022-01-01_2022-12-31.csv with overwriting permissions'\n",
      "Successfully downloaded data for PRX\n",
      "Data saved for PRX. To C:\\Users\\hugos\\Desktop\\PersonalProject\\predictiveForecasting\\aex_data/PRX_data_2022-01-01_2022-12-31.csv with overwriting permissions'\n"
     ]
    },
    {
     "name": "stderr",
     "output_type": "stream",
     "text": [
      "\n",
      "[*********************100%%**********************]  1 of 1 completed\n",
      "[*********************100%%**********************]  1 of 1 completed\n"
     ]
    },
    {
     "name": "stdout",
     "output_type": "stream",
     "text": [
      "Successfully downloaded data for RAND\n",
      "Data saved for RAND. To C:\\Users\\hugos\\Desktop\\PersonalProject\\predictiveForecasting\\aex_data/RAND_data_2022-01-01_2022-12-31.csv with overwriting permissions'\n",
      "Successfully downloaded data for REN\n",
      "Data saved for REN. To C:\\Users\\hugos\\Desktop\\PersonalProject\\predictiveForecasting\\aex_data/REN_data_2022-01-01_2022-12-31.csv with overwriting permissions'\n"
     ]
    },
    {
     "name": "stderr",
     "output_type": "stream",
     "text": [
      "[*********************100%%**********************]  1 of 1 completed\n",
      "\n",
      "1 Failed download:\n",
      "['RDSA.AS']: Exception('%ticker%: No timezone found, symbol may be delisted')\n",
      "[*********************100%%**********************]  1 of 1 completed\n"
     ]
    },
    {
     "name": "stdout",
     "output_type": "stream",
     "text": [
      "Downloaded data for RDSA is empty.\n",
      "Successfully downloaded data for UNA\n",
      "Data saved for UNA. To C:\\Users\\hugos\\Desktop\\PersonalProject\\predictiveForecasting\\aex_data/UNA_data_2022-01-01_2022-12-31.csv with overwriting permissions'\n"
     ]
    },
    {
     "name": "stderr",
     "output_type": "stream",
     "text": [
      "[*********************100%%**********************]  1 of 1 completed\n",
      "[*********************100%%**********************]  1 of 1 completed"
     ]
    },
    {
     "name": "stdout",
     "output_type": "stream",
     "text": [
      "Successfully downloaded data for UMG\n",
      "Data saved for UMG. To C:\\Users\\hugos\\Desktop\\PersonalProject\\predictiveForecasting\\aex_data/UMG_data_2022-01-01_2022-12-31.csv with overwriting permissions'\n",
      "Successfully downloaded data for WKL\n",
      "Data saved for WKL. To C:\\Users\\hugos\\Desktop\\PersonalProject\\predictiveForecasting\\aex_data/WKL_data_2022-01-01_2022-12-31.csv with overwriting permissions'\n",
      "Failed to download data for the following stocks: ['DSM', 'EXOR', 'RDSA']\n"
     ]
    },
    {
     "name": "stderr",
     "output_type": "stream",
     "text": [
      "\n"
     ]
    }
   ],
   "source": [
    "# List of AEX stocks\n",
    "aex_stocks = df[\"Ticker symbol\"].tolist()\n",
    "start_date ='2022-01-01'\n",
    "end_date = '2022-12-31'\n",
    "\n",
    "# Directory to save the dataframes\n",
    "output_directory = \"aex_data/\"\n",
    "\n",
    "# Create the output directory if it doesn't exist\n",
    "try:\n",
    "    os.makedirs(output_directory)\n",
    "    print(f\"Output directory '{output_directory}' created successfully.\")\n",
    "except FileExistsError:\n",
    "    print(f\"Output directory '{output_directory}' already exists.\")\n",
    "\n",
    "os_path = os.path.join(cwd, output_directory)\n",
    "# Download historical data for each stock\n",
    "failed_stocks = []\n",
    "for stock in aex_stocks:\n",
    "    try:\n",
    "        data = yf.download(stock + \".AS\", start='2022-01-01', end='2022-12-31')  # Append \".AS\" for Amsterdam exchange\n",
    "        if not data.empty:\n",
    "            print(f\"Successfully downloaded data for {stock}\")\n",
    "            # Save the dataframe to CSV\n",
    "            file_path = os.path.join(os_path, f\"{stock}_data_{start_date}_{end_date}.csv\")\n",
    "            data.to_csv(file_path,mode='w', index=False)\n",
    "            print(f\"Data saved for {stock}. To {file_path} with overwriting permissions'\")\n",
    "            #print(data.head())  # Example: Print the first few rows of data\n",
    "        else:\n",
    "            print(f\"Downloaded data for {stock} is empty.\")\n",
    "            failed_stocks.append(stock)\n",
    "    except Exception as e:\n",
    "        print(f\"Failed to download data for {stock}: {e}\")\n",
    "        failed_stocks.append(stock)\n",
    "\n",
    "# Print failed stocks\n",
    "print(\"Failed to download data for the following stocks:\", failed_stocks)\n"
   ]
  }
 ],
 "metadata": {
  "kernelspec": {
   "display_name": "Python 3",
   "language": "python",
   "name": "python3"
  },
  "language_info": {
   "codemirror_mode": {
    "name": "ipython",
    "version": 3
   },
   "file_extension": ".py",
   "mimetype": "text/x-python",
   "name": "python",
   "nbconvert_exporter": "python",
   "pygments_lexer": "ipython3",
   "version": "3.8.3"
  }
 },
 "nbformat": 4,
 "nbformat_minor": 4
}
