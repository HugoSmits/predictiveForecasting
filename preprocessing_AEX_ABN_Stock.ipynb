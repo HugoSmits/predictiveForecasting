{
 "cells": [
  {
   "cell_type": "code",
   "execution_count": 1,
   "metadata": {},
   "outputs": [],
   "source": [
    "import os\n",
    "import pandas as pd\n",
    "import numpy as np\n",
    "import matplotlib.pyplot as plt\n",
    "import seaborn as sns"
   ]
  },
  {
   "cell_type": "code",
   "execution_count": 2,
   "metadata": {},
   "outputs": [
    {
     "name": "stdout",
     "output_type": "stream",
     "text": [
      "Files and directories in aex_data/ :\n",
      ".ipynb_checkpoints\n",
      "ABN_data_2015-11-20_2024-04-12.csv\n",
      "ADYEN_data_2018-06-13_2024-04-11.csv\n",
      "ADYEN_data_2018-06-13_2024-04-12.csv\n",
      "AD_data_2008-10-24_2024-04-11.csv\n",
      "AD_data_2008-10-24_2024-04-12.csv\n",
      "AGN_data_1995-03-27_2024-04-11.csv\n",
      "AGN_data_1995-03-27_2024-04-12.csv\n",
      "AKZA_data_1995-03-27_2024-04-11.csv\n",
      "AKZA_data_1995-03-27_2024-04-12.csv\n",
      "ASML_data_1998-07-20_2024-04-11.csv\n",
      "ASML_data_1998-07-20_2024-04-12.csv\n",
      "ASM_data_1999-01-06_2024-04-11.csv\n",
      "ASM_data_1999-01-06_2024-04-12.csv\n",
      "ASRNL_data_2016-06-10_2024-04-11.csv\n",
      "ASRNL_data_2016-06-10_2024-04-12.csv\n",
      "BESI_data_1998-07-20_2024-04-11.csv\n",
      "BESI_data_1998-07-20_2024-04-12.csv\n",
      "HEIA_data_1995-03-27_2024-04-11.csv\n",
      "HEIA_data_1995-03-27_2024-04-12.csv\n",
      "IMCD_data_2014-06-27_2024-04-11.csv\n",
      "IMCD_data_2014-06-27_2024-04-12.csv\n",
      "INGA_data_1995-03-27_2024-04-11.csv\n",
      "INGA_data_1995-03-27_2024-04-12.csv\n",
      "KPN_data_1995-03-27_2024-04-11.csv\n",
      "KPN_data_1995-03-27_2024-04-12.csv\n",
      "MT_data_2005-07-25_2024-04-11.csv\n",
      "MT_data_2005-07-25_2024-04-12.csv\n",
      "NN_data_2014-07-02_2024-04-11.csv\n",
      "NN_data_2014-07-02_2024-04-12.csv\n",
      "PHIA_data_1995-03-27_2024-04-11.csv\n",
      "PHIA_data_1995-03-27_2024-04-12.csv\n",
      "PRX_data_2019-09-11_2024-04-11.csv\n",
      "PRX_data_2019-09-11_2024-04-12.csv\n",
      "RAND_data_1995-05-11_2024-04-11.csv\n",
      "RAND_data_1995-05-11_2024-04-12.csv\n",
      "REN_data_1995-03-27_2024-04-11.csv\n",
      "REN_data_1995-03-27_2024-04-12.csv\n",
      "UMG_data_2021-09-21_2024-04-11.csv\n",
      "UMG_data_2021-09-21_2024-04-12.csv\n",
      "UNA_data_2020-12-04_2024-04-11.csv\n",
      "UNA_data_2020-12-04_2024-04-12.csv\n",
      "WKL_data_1995-03-27_2024-04-11.csv\n",
      "WKL_data_1995-03-27_2024-04-12.csv\n"
     ]
    }
   ],
   "source": [
    "# Directory path\n",
    "cwd = os.getcwd()\n",
    "directory = \"aex_data/\"\n",
    "\n",
    "# List files and directories in the directory\n",
    "files_and_directories = os.listdir(directory)\n",
    "\n",
    "# Print the list\n",
    "print(\"Files and directories in\", directory, \":\")\n",
    "for item in files_and_directories:\n",
    "    print(item)"
   ]
  },
  {
   "cell_type": "code",
   "execution_count": 3,
   "metadata": {},
   "outputs": [],
   "source": [
    "designated_stock_path = \"aex_data/ABN_data_2015-11-20_2024-04-12.csv\"\n",
    "df_ABN = pd.read_csv(designated_stock_path)"
   ]
  },
  {
   "cell_type": "code",
   "execution_count": 4,
   "metadata": {},
   "outputs": [
    {
     "data": {
      "text/html": [
       "<div>\n",
       "<style scoped>\n",
       "    .dataframe tbody tr th:only-of-type {\n",
       "        vertical-align: middle;\n",
       "    }\n",
       "\n",
       "    .dataframe tbody tr th {\n",
       "        vertical-align: top;\n",
       "    }\n",
       "\n",
       "    .dataframe thead th {\n",
       "        text-align: right;\n",
       "    }\n",
       "</style>\n",
       "<table border=\"1\" class=\"dataframe\">\n",
       "  <thead>\n",
       "    <tr style=\"text-align: right;\">\n",
       "      <th></th>\n",
       "      <th>Date</th>\n",
       "      <th>Open</th>\n",
       "      <th>High</th>\n",
       "      <th>Low</th>\n",
       "      <th>Close</th>\n",
       "      <th>Adj Close</th>\n",
       "      <th>Volume</th>\n",
       "    </tr>\n",
       "  </thead>\n",
       "  <tbody>\n",
       "    <tr>\n",
       "      <th>0</th>\n",
       "      <td>2015-11-20</td>\n",
       "      <td>18.180000</td>\n",
       "      <td>18.430000</td>\n",
       "      <td>18.000000</td>\n",
       "      <td>18.350000</td>\n",
       "      <td>11.638737</td>\n",
       "      <td>38392898</td>\n",
       "    </tr>\n",
       "    <tr>\n",
       "      <th>1</th>\n",
       "      <td>2015-11-23</td>\n",
       "      <td>18.450001</td>\n",
       "      <td>18.700001</td>\n",
       "      <td>18.215000</td>\n",
       "      <td>18.610001</td>\n",
       "      <td>11.803646</td>\n",
       "      <td>3352514</td>\n",
       "    </tr>\n",
       "    <tr>\n",
       "      <th>2</th>\n",
       "      <td>2015-11-24</td>\n",
       "      <td>18.700001</td>\n",
       "      <td>18.799999</td>\n",
       "      <td>18.370001</td>\n",
       "      <td>18.799999</td>\n",
       "      <td>11.924155</td>\n",
       "      <td>4871901</td>\n",
       "    </tr>\n",
       "    <tr>\n",
       "      <th>3</th>\n",
       "      <td>2015-11-25</td>\n",
       "      <td>18.850000</td>\n",
       "      <td>19.500000</td>\n",
       "      <td>18.770000</td>\n",
       "      <td>19.450001</td>\n",
       "      <td>12.336428</td>\n",
       "      <td>4802607</td>\n",
       "    </tr>\n",
       "    <tr>\n",
       "      <th>4</th>\n",
       "      <td>2015-11-26</td>\n",
       "      <td>19.480000</td>\n",
       "      <td>19.670000</td>\n",
       "      <td>19.410000</td>\n",
       "      <td>19.430000</td>\n",
       "      <td>12.323740</td>\n",
       "      <td>1648481</td>\n",
       "    </tr>\n",
       "    <tr>\n",
       "      <th>...</th>\n",
       "      <td>...</td>\n",
       "      <td>...</td>\n",
       "      <td>...</td>\n",
       "      <td>...</td>\n",
       "      <td>...</td>\n",
       "      <td>...</td>\n",
       "      <td>...</td>\n",
       "    </tr>\n",
       "    <tr>\n",
       "      <th>2144</th>\n",
       "      <td>2024-04-08</td>\n",
       "      <td>16.395000</td>\n",
       "      <td>16.504999</td>\n",
       "      <td>16.290001</td>\n",
       "      <td>16.430000</td>\n",
       "      <td>16.430000</td>\n",
       "      <td>2483292</td>\n",
       "    </tr>\n",
       "    <tr>\n",
       "      <th>2145</th>\n",
       "      <td>2024-04-09</td>\n",
       "      <td>16.415001</td>\n",
       "      <td>16.490000</td>\n",
       "      <td>16.235001</td>\n",
       "      <td>16.260000</td>\n",
       "      <td>16.260000</td>\n",
       "      <td>2267871</td>\n",
       "    </tr>\n",
       "    <tr>\n",
       "      <th>2146</th>\n",
       "      <td>2024-04-10</td>\n",
       "      <td>16.395000</td>\n",
       "      <td>16.580000</td>\n",
       "      <td>16.305000</td>\n",
       "      <td>16.385000</td>\n",
       "      <td>16.385000</td>\n",
       "      <td>3472390</td>\n",
       "    </tr>\n",
       "    <tr>\n",
       "      <th>2147</th>\n",
       "      <td>2024-04-11</td>\n",
       "      <td>16.355000</td>\n",
       "      <td>16.450001</td>\n",
       "      <td>15.965000</td>\n",
       "      <td>16.075001</td>\n",
       "      <td>16.075001</td>\n",
       "      <td>2642112</td>\n",
       "    </tr>\n",
       "    <tr>\n",
       "      <th>2148</th>\n",
       "      <td>2024-04-12</td>\n",
       "      <td>16.080000</td>\n",
       "      <td>16.120001</td>\n",
       "      <td>15.800000</td>\n",
       "      <td>15.840000</td>\n",
       "      <td>15.840000</td>\n",
       "      <td>3157204</td>\n",
       "    </tr>\n",
       "  </tbody>\n",
       "</table>\n",
       "<p>2149 rows × 7 columns</p>\n",
       "</div>"
      ],
      "text/plain": [
       "            Date       Open       High        Low      Close  Adj Close  \\\n",
       "0     2015-11-20  18.180000  18.430000  18.000000  18.350000  11.638737   \n",
       "1     2015-11-23  18.450001  18.700001  18.215000  18.610001  11.803646   \n",
       "2     2015-11-24  18.700001  18.799999  18.370001  18.799999  11.924155   \n",
       "3     2015-11-25  18.850000  19.500000  18.770000  19.450001  12.336428   \n",
       "4     2015-11-26  19.480000  19.670000  19.410000  19.430000  12.323740   \n",
       "...          ...        ...        ...        ...        ...        ...   \n",
       "2144  2024-04-08  16.395000  16.504999  16.290001  16.430000  16.430000   \n",
       "2145  2024-04-09  16.415001  16.490000  16.235001  16.260000  16.260000   \n",
       "2146  2024-04-10  16.395000  16.580000  16.305000  16.385000  16.385000   \n",
       "2147  2024-04-11  16.355000  16.450001  15.965000  16.075001  16.075001   \n",
       "2148  2024-04-12  16.080000  16.120001  15.800000  15.840000  15.840000   \n",
       "\n",
       "        Volume  \n",
       "0     38392898  \n",
       "1      3352514  \n",
       "2      4871901  \n",
       "3      4802607  \n",
       "4      1648481  \n",
       "...        ...  \n",
       "2144   2483292  \n",
       "2145   2267871  \n",
       "2146   3472390  \n",
       "2147   2642112  \n",
       "2148   3157204  \n",
       "\n",
       "[2149 rows x 7 columns]"
      ]
     },
     "execution_count": 4,
     "metadata": {},
     "output_type": "execute_result"
    }
   ],
   "source": [
    "df_ABN"
   ]
  },
  {
   "cell_type": "code",
   "execution_count": 5,
   "metadata": {},
   "outputs": [
    {
     "name": "stdout",
     "output_type": "stream",
     "text": [
      "Total null values in the Dataframe - ABN_data_2015-11-20_2024-04-11: 0\n"
     ]
    }
   ],
   "source": [
    "print(f\"Total null values in the Dataframe - ABN_data_2015-11-20_2024-04-11: {df_ABN.isnull().sum().sum()}\")"
   ]
  },
  {
   "cell_type": "code",
   "execution_count": 6,
   "metadata": {},
   "outputs": [],
   "source": [
    "df_ABN_dropna = df_ABN.dropna(axis=0, how='any')"
   ]
  },
  {
   "cell_type": "code",
   "execution_count": 7,
   "metadata": {},
   "outputs": [
    {
     "data": {
      "text/plain": [
       "<function matplotlib.pyplot.show(*args, **kw)>"
      ]
     },
     "execution_count": 7,
     "metadata": {},
     "output_type": "execute_result"
    },
    {
     "data": {
      "image/png": "[encoded data removed]",
      "text/plain": [
       "<Figure size 432x288 with 1 Axes>"
      ]
     },
     "metadata": {
      "needs_background": "light"
     },
     "output_type": "display_data"
    }
   ],
   "source": [
    "sns.heatmap (df_ABN_dropna.isna(), cbar=False, cmap='viridis')\n",
    "plt.show"
   ]
  },
  {
   "cell_type": "code",
   "execution_count": 8,
   "metadata": {},
   "outputs": [
    {
     "name": "stdout",
     "output_type": "stream",
     "text": [
      "Total duplicated values in the Dataframe - df_ABN: 0\n"
     ]
    }
   ],
   "source": [
    "print(f\"Total duplicated values in the Dataframe - df_ABN: {df_ABN_dropna['Date'].duplicated().sum().sum()}\") "
   ]
  },
  {
   "cell_type": "code",
   "execution_count": 9,
   "metadata": {},
   "outputs": [
    {
     "name": "stdout",
     "output_type": "stream",
     "text": [
      "DataFrame contains -NO- infinite values\n"
     ]
    }
   ],
   "source": [
    "if df_ABN_dropna.isin([np.inf, -np.inf]).any().any():\n",
    "    print(\"DataFrame contains infinite values\")\n",
    "else:\n",
    "    print(\"DataFrame contains -NO- infinite values\")"
   ]
  },
  {
   "cell_type": "code",
   "execution_count": 10,
   "metadata": {},
   "outputs": [
    {
     "name": "stdout",
     "output_type": "stream",
     "text": [
      "Dataframe has been written to C:\\Users\\hugos\\Desktop\\PersonalProject\\predictiveForecasting\\aex_data/ABN_data_2015-11-20_2024-04-12.csv with overwriting permissions\n"
     ]
    }
   ],
   "source": [
    "file_path = os.path.join(cwd, designated_stock_path)\n",
    "df_ABN_dropna.to_csv(file_path, mode= 'w', index=False)\n",
    "print (f'Dataframe has been written to {file_path} with overwriting permissions')"
   ]
  }
 ],
 "metadata": {
  "kernelspec": {
   "display_name": "Python 3",
   "language": "python",
   "name": "python3"
  },
  "language_info": {
   "codemirror_mode": {
    "name": "ipython",
    "version": 3
   },
   "file_extension": ".py",
   "mimetype": "text/x-python",
   "name": "python",
   "nbconvert_exporter": "python",
   "pygments_lexer": "ipython3",
   "version": "3.8.3"
  }
 },
 "nbformat": 4,
 "nbformat_minor": 4
}
