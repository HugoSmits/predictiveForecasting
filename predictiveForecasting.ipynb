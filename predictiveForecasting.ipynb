{
 "cells": [
  {
   "cell_type": "markdown",
   "metadata": {},
   "source": [
    "# Introduction\n",
    "Fetching and cleaning the data"
   ]
  },
  {
   "cell_type": "markdown",
   "metadata": {},
   "source": [
    "# Pre - Amble"
   ]
  },
  {
   "cell_type": "code",
   "execution_count": 1,
   "metadata": {},
   "outputs": [],
   "source": [
    "import os\n",
    "import time\n",
    "\n",
    "import pandas as pd\n",
    "import numpy as np\n",
    "import matplotlib.pyplot as plt\n",
    "import seaborn as sns\n",
    "\n",
    "import yfinance as yf\n",
    "import requests\n",
    "from bs4 import BeautifulSoup"
   ]
  },
  {
   "cell_type": "code",
   "execution_count": 2,
   "metadata": {},
   "outputs": [
    {
     "name": "stdout",
     "output_type": "stream",
     "text": [
      "0.2.37\n"
     ]
    }
   ],
   "source": [
    "print(yf.__version__)  # Prints the version of pandas"
   ]
  },
  {
   "cell_type": "code",
   "execution_count": 3,
   "metadata": {},
   "outputs": [],
   "source": [
    "#print(dir(yf))"
   ]
  },
  {
   "cell_type": "code",
   "execution_count": 4,
   "metadata": {},
   "outputs": [],
   "source": [
    "#print(dir(yf.Ticker))"
   ]
  },
  {
   "cell_type": "code",
   "execution_count": 5,
   "metadata": {},
   "outputs": [],
   "source": [
    "#print(dir(yf.Tickers))"
   ]
  },
  {
   "cell_type": "code",
   "execution_count": 6,
   "metadata": {},
   "outputs": [
    {
     "name": "stdout",
     "output_type": "stream",
     "text": [
      "DataFrame for the second table on AEX index:\n",
      "                  Company                            Sector Ticker symbol\n",
      "0           ABN AMRO Bank                  Bankactiviteiten           ABN\n",
      "1                   Adyen       Betalingsverwerkingsbedrijf         ADYEN\n",
      "2                   Aegon               Levensverzekeringen           AGN\n",
      "3          Ahold Delhaize            Supermarkten en retail            AD\n",
      "4              Akzo Nobel         Verf- en coatingfabrikant          AKZA\n",
      "5           ArcelorMittal                    IJzer en staal            MT\n",
      "6       ASM International             Halfgeleiderindustrie           ASM\n",
      "7                    ASML                      Chipmachines          ASML\n",
      "8           ASR Nederland                     Verzekeringen         ASRNL\n",
      "9                    Besi             Halfgeleiderindustrie          BESI\n",
      "10                    DSM         Chemie- en biotechnologie           DSM\n",
      "11                   Exor          Investeringsmaatschappij          EXOR\n",
      "12               Heineken                       Bierbrouwer          HEIA\n",
      "13                   IMCD            Chemicaliëndistributie          IMCD\n",
      "14              ING Group                  Bankactiviteiten          INGA\n",
      "15                    KPN                  Telecommunicatie           KPN\n",
      "16  Nationale Nederlanden               Levensverzekeringen            NN\n",
      "17                Philips              Medische technologie          PHIA\n",
      "18                 Prosus               Internettechnologie           PRX\n",
      "19       Randstad Holding                Uitzendonderneming          RAND\n",
      "20                   RELX                        Uitgeverij           REN\n",
      "21              Shell plc                       Olie en gas          RDSA\n",
      "22               Unilever  Voedsel- en verzorgingsproducten           UNA\n",
      "23  Universal Music Group                    Muziekuitgever           UMG\n",
      "24         Wolters Kluwer                        Uitgeverij           WKL\n"
     ]
    }
   ],
   "source": [
    "import requests\n",
    "from bs4 import BeautifulSoup\n",
    "import pandas as pd\n",
    "\n",
    "# URL of the Wikipedia page for the AEX index\n",
    "url = \"https://nl.wikipedia.org/wiki/AEX\"\n",
    "\n",
    "# Send a GET request to the Wikipedia page\n",
    "response = requests.get(url)\n",
    "\n",
    "# Check if the request was successful (status code 200)\n",
    "if response.status_code == 200:\n",
    "    # Parse the HTML content of the page using BeautifulSoup\n",
    "    soup = BeautifulSoup(response.text, \"html.parser\")\n",
    "    \n",
    "    # Find all tables on the page\n",
    "    tables = soup.find_all(\"table\", class_=\"wikitable sortable\")\n",
    "    \n",
    "    # Check if there are at least two tables\n",
    "    if len(tables) >= 2:\n",
    "        # Extract the second table (index 1)\n",
    "        table = tables[1]\n",
    "        \n",
    "        # Extract the rows from the table\n",
    "        rows = table.find_all(\"tr\")\n",
    "        \n",
    "        # Extract the column headers\n",
    "        headers = [header.text.strip() for header in rows[0].find_all(\"th\")]\n",
    "        \n",
    "        # Extract the data from the table rows\n",
    "        data = []\n",
    "        for row in rows[1:]:\n",
    "            data.append([cell.text.strip() for cell in row.find_all(\"td\")])\n",
    "        \n",
    "        # Convert the data to a DataFrame\n",
    "        df = pd.DataFrame(data, columns=headers)\n",
    "        \n",
    "        # Print the DataFrame\n",
    "        print(\"DataFrame for the second table on AEX index:\")\n",
    "        print(df)\n",
    "    else:\n",
    "        print(\"Second table not found on the page.\")\n",
    "else:\n",
    "    print(\"Failed to retrieve data from Wikipedia.\")\n"
   ]
  },
  {
   "cell_type": "code",
   "execution_count": 7,
   "metadata": {},
   "outputs": [
    {
     "name": "stdout",
     "output_type": "stream",
     "text": [
      "['ABN', 'ADYEN', 'AGN', 'AD', 'AKZA', 'MT', 'ASM', 'ASML', 'ASRNL', 'BESI', 'DSM', 'EXOR', 'HEIA', 'IMCD', 'INGA', 'KPN', 'NN', 'PHIA', 'PRX', 'RAND', 'REN', 'RDSA', 'UNA', 'UMG', 'WKL']\n"
     ]
    }
   ],
   "source": [
    "print(df[\"Ticker symbol\"].tolist())"
   ]
  },
  {
   "cell_type": "code",
   "execution_count": 10,
   "metadata": {},
   "outputs": [
    {
     "name": "stderr",
     "output_type": "stream",
     "text": [
      "[*********************100%%**********************]  1 of 1 completed\n",
      "[*********************100%%**********************]  1 of 1 completed\n",
      "[*********************100%%**********************]  1 of 1 completed\n",
      "[*********************100%%**********************]  1 of 1 completed\n",
      "[*********************100%%**********************]  1 of 1 completed\n",
      "[*********************100%%**********************]  1 of 1 completed\n",
      "[*********************100%%**********************]  1 of 1 completed\n",
      "[*********************100%%**********************]  1 of 1 completed"
     ]
    },
    {
     "name": "stdout",
     "output_type": "stream",
     "text": [
      "Successfully downloaded data for ABN\n",
      "              Open    High     Low   Close  Adj Close   Volume\n",
      "Date                                                          \n",
      "2022-01-03  12.986  13.160  12.962  13.132  11.097253  2182042\n",
      "2022-01-04  13.300  13.910  13.240  13.848  11.702311  4522246\n",
      "2022-01-05  13.910  14.346  13.886  14.092  11.908505  3625228\n",
      "2022-01-06  14.000  14.262  13.930  14.130  11.940617  2792021\n",
      "2022-01-07  14.220  14.220  13.934  14.100  11.915265  3078482\n",
      "Successfully downloaded data for ADYEN\n",
      "              Open    High     Low   Close  Adj Close  Volume\n",
      "Date                                                         \n",
      "2022-01-03  2290.0  2379.0  2285.0  2354.5     2354.5   42366\n",
      "2022-01-04  2360.0  2375.0  2263.0  2271.0     2271.0   55330\n",
      "2022-01-05  2259.0  2284.0  2235.0  2255.0     2255.0   61849\n",
      "2022-01-06  2189.5  2201.5  2139.5  2187.5     2187.5   77043\n",
      "2022-01-07  2200.5  2207.0  2125.5  2145.0     2145.0   63086\n",
      "Successfully downloaded data for AGN\n",
      "             Open   High    Low  Close  Adj Close    Volume\n",
      "Date                                                       \n",
      "2022-01-03  4.428  4.453  4.402  4.430   4.007630   5913582\n",
      "2022-01-04  4.460  4.593  4.451  4.565   4.129759  10203055\n",
      "2022-01-05  4.589  4.650  4.571  4.613   4.173182   9797275\n",
      "2022-01-06  4.574  4.609  4.544  4.609   4.169564   8345759\n",
      "2022-01-07  4.650  4.809  4.644  4.809   4.350495  12983680\n",
      "Successfully downloaded data for AD\n",
      "                 Open       High        Low      Close  Adj Close   Volume\n",
      "Date                                                                      \n",
      "2022-01-03  30.415001  30.834999  30.190001  30.530001  28.468637  1849550\n",
      "2022-01-04  30.719999  30.780001  30.320000  30.465000  28.408026  1674656\n",
      "2022-01-05  30.594999  30.895000  30.450001  30.790001  28.711082  2325077\n",
      "2022-01-06  30.650000  30.959999  30.459999  30.620001  28.552561  2520480\n",
      "2022-01-07  30.605000  30.879999  30.424999  30.504999  28.445324  2086783\n",
      "Successfully downloaded data for AKZA\n",
      "                 Open       High        Low      Close  Adj Close  Volume\n",
      "Date                                                                     \n",
      "2022-01-03  96.739998  98.199997  96.699997  97.660004  92.569496  320190\n",
      "2022-01-04  98.400002  98.680000  97.339996  98.500000  93.365700  350617\n",
      "2022-01-05  98.699997  99.919998  97.360001  97.660004  92.569496  619028\n",
      "2022-01-06  96.639999  98.199997  96.540001  97.620003  92.531578  545664\n",
      "2022-01-07  97.599998  98.279999  97.080002  97.360001  92.285133  468394\n",
      "Successfully downloaded data for MT\n",
      "                 Open       High        Low      Close  Adj Close   Volume\n",
      "Date                                                                      \n",
      "2022-01-03  28.240000  28.850000  28.025000  28.610001  27.639811  2952822\n",
      "2022-01-04  28.559999  29.090000  28.135000  28.934999  27.953791  4499756\n",
      "2022-01-05  29.250000  29.700001  28.855000  29.700001  28.692850  4946503\n",
      "2022-01-06  29.299999  29.825001  29.165001  29.520000  28.518953  4231205\n",
      "2022-01-07  29.684999  30.870001  29.600000  30.525000  29.489872  5648913\n",
      "Successfully downloaded data for ASM\n",
      "                  Open        High         Low       Close   Adj Close  Volume\n",
      "Date                                                                          \n",
      "2022-01-03  392.799988  393.600006  386.100006  390.799988  384.661072  154798\n",
      "2022-01-04  395.000000  396.799988  377.700012  380.000000  374.030731  244097\n",
      "2022-01-05  383.899994  388.000000  375.000000  377.500000  371.570007  165259\n",
      "2022-01-06  363.799988  369.500000  351.500000  361.299988  355.624481  327410\n",
      "2022-01-07  365.600006  367.600006  354.299988  359.000000  353.360626  294987\n"
     ]
    },
    {
     "name": "stderr",
     "output_type": "stream",
     "text": [
      "\n",
      "[*********************100%%**********************]  1 of 1 completed\n",
      "[*********************100%%**********************]  1 of 1 completed\n",
      "[*********************100%%**********************]  1 of 1 completed\n",
      "\n",
      "1 Failed download:\n",
      "['DSM.AS']: Exception('%ticker%: No timezone found, symbol may be delisted')\n",
      "[*********************100%%**********************]  1 of 1 completed\n",
      "\n",
      "1 Failed download:\n",
      "['EXOR.AS']: Exception('%ticker%: No timezone found, symbol may be delisted')\n",
      "[*********************100%%**********************]  1 of 1 completed\n",
      "[*********************100%%**********************]  1 of 1 completed\n",
      "[*********************100%%**********************]  1 of 1 completed\n",
      "[*********************100%%**********************]  1 of 1 completed"
     ]
    },
    {
     "name": "stdout",
     "output_type": "stream",
     "text": [
      "Successfully downloaded data for ASML\n",
      "                  Open        High         Low       Close   Adj Close  Volume\n",
      "Date                                                                          \n",
      "2022-01-03  709.000000  716.900024  693.599976  701.700012  685.094788  547270\n",
      "2022-01-04  708.700012  712.799988  674.700012  681.299988  665.177551  618866\n",
      "2022-01-05  687.099976  692.799988  669.299988  670.900024  655.023743  655169\n",
      "2022-01-06  650.700012  660.700012  636.700012  658.500000  642.917175  975136\n",
      "2022-01-07  675.000000  678.500000  655.500000  664.900024  649.165710  964639\n",
      "Successfully downloaded data for ASRNL\n",
      "                 Open       High        Low      Close  Adj Close  Volume\n",
      "Date                                                                     \n",
      "2022-01-03  40.790001  40.959999  40.689999  40.779999  35.757767  209845\n",
      "2022-01-04  41.090000  41.750000  40.980000  41.610001  36.485550  388490\n",
      "2022-01-05  41.720001  41.790001  41.200001  41.200001  36.126049  268292\n",
      "2022-01-06  40.840000  41.689999  40.840000  41.400002  36.301414  410811\n",
      "2022-01-07  41.500000  42.250000  41.500000  42.230000  37.029202  465862\n",
      "Successfully downloaded data for BESI\n",
      "                 Open       High        Low      Close  Adj Close  Volume\n",
      "Date                                                                     \n",
      "2022-01-03  75.000000  75.599998  73.839996  75.419998  68.568954  425092\n",
      "2022-01-04  76.220001  76.300003  72.559998  73.599998  66.914284  494170\n",
      "2022-01-05  73.800003  74.500000  72.019997  72.279999  65.714188  473487\n",
      "2022-01-06  70.040001  70.639999  68.339996  69.720001  63.386742  706154\n",
      "2022-01-07  70.980003  71.059998  68.580002  69.459999  63.150360  431141\n",
      "Downloaded data for DSM is empty.\n",
      "Downloaded data for EXOR is empty.\n",
      "Successfully downloaded data for HEIA\n",
      "                  Open        High         Low       Close  Adj Close  Volume\n",
      "Date                                                                         \n",
      "2022-01-03   99.580002  101.500000   99.360001  101.500000  97.980659  391679\n",
      "2022-01-04  101.800003  103.250000  101.250000  102.849998  99.283844  481863\n",
      "2022-01-05  102.849998  102.900002  101.750000  102.000000  98.463318  527515\n",
      "2022-01-06  100.550003  101.000000   99.559998  100.099998  96.629196  744837\n",
      "2022-01-07  100.250000  100.349998   98.760002   99.779999  96.320290  539982\n",
      "Successfully downloaded data for IMCD\n",
      "                  Open        High         Low       Close   Adj Close  Volume\n",
      "Date                                                                          \n",
      "2022-01-03  196.250000  197.500000  194.149994  195.300003  189.747360   71912\n",
      "2022-01-04  196.149994  197.600006  194.250000  195.050003  189.504456  190371\n",
      "2022-01-05  195.000000  197.000000  191.949997  193.550003  188.047119  151025\n",
      "2022-01-06  190.550003  190.550003  178.850006  179.000000  173.910782  191355\n",
      "2022-01-07  178.500000  178.550003  173.800003  175.250000  170.267410  224860\n",
      "Successfully downloaded data for INGA\n",
      "              Open    High     Low   Close  Adj Close    Volume\n",
      "Date                                                           \n",
      "2022-01-03  12.346  12.512  12.314  12.460  10.642340  10989201\n",
      "2022-01-04  12.580  12.798  12.512  12.700  10.847329  14102522\n",
      "2022-01-05  12.736  12.940  12.736  12.836  10.963489  11304458\n",
      "2022-01-06  12.730  12.936  12.666  12.916  11.031818  12607169\n",
      "2022-01-07  12.964  13.074  12.856  13.074  11.166770  14819325\n"
     ]
    },
    {
     "name": "stderr",
     "output_type": "stream",
     "text": [
      "\n",
      "[*********************100%%**********************]  1 of 1 completed\n",
      "[*********************100%%**********************]  1 of 1 completed\n",
      "[*********************100%%**********************]  1 of 1 completed\n",
      "[*********************100%%**********************]  1 of 1 completed\n",
      "[*********************100%%**********************]  1 of 1 completed\n",
      "[*********************100%%**********************]  1 of 1 completed\n",
      "\n",
      "1 Failed download:\n",
      "['RDSA.AS']: Exception('%ticker%: No timezone found, symbol may be delisted')\n",
      "[*********************100%%**********************]  1 of 1 completed\n",
      "[*********************100%%**********************]  1 of 1 completed"
     ]
    },
    {
     "name": "stdout",
     "output_type": "stream",
     "text": [
      "Successfully downloaded data for KPN\n",
      "             Open   High    Low  Close  Adj Close    Volume\n",
      "Date                                                       \n",
      "2022-01-03  2.737  2.768  2.737  2.760   2.531644   7301475\n",
      "2022-01-04  2.770  2.778  2.764  2.771   2.541734   9782291\n",
      "2022-01-05  2.773  2.792  2.769  2.777   2.547237  12239785\n",
      "2022-01-06  2.770  2.803  2.765  2.771   2.541734  11331096\n",
      "2022-01-07  2.778  2.783  2.755  2.774   2.544486   9562509\n",
      "Successfully downloaded data for NN\n",
      "                 Open       High        Low      Close  Adj Close  Volume\n",
      "Date                                                                     \n",
      "2022-01-03  47.750000  48.310001  47.750000  48.130001  41.804695  350295\n",
      "2022-01-04  48.480000  49.299999  48.310001  49.130001  42.673275  632379\n",
      "2022-01-05  50.000000  50.000000  48.830002  48.830002  42.412708  627410\n",
      "2022-01-06  48.209999  49.299999  48.139999  49.000000  42.560364  832611\n",
      "2022-01-07  48.849998  49.919998  48.700001  49.919998  43.359451  803219\n",
      "Successfully downloaded data for PHIA\n",
      "                 Open       High        Low      Close  Adj Close   Volume\n",
      "Date                                                                      \n",
      "2022-01-03  31.383368  31.799770  31.292431  31.732763  30.586201  2064125\n",
      "2022-01-04  32.120449  32.244892  31.809343  32.063015  30.904520  3177645\n",
      "2022-01-05  32.120449  32.158737  31.723190  31.799770  30.650787  2514904\n",
      "2022-01-06  31.416872  31.737551  31.153629  31.302002  30.171005  2394863\n",
      "2022-01-07  31.254141  31.574818  31.105766  31.574818  30.433962  2460314\n",
      "Successfully downloaded data for PRX\n",
      "                 Open       High        Low      Close  Adj Close   Volume\n",
      "Date                                                                      \n",
      "2022-01-03  33.648376  34.111763  33.556614  33.992474  33.826439  3162457\n",
      "2022-01-04  33.900715  34.364101  33.561203  33.854836  33.689476  4358339\n",
      "2022-01-05  33.106991  33.460266  32.643604  33.230869  33.068558  4159956\n",
      "2022-01-06  32.854652  32.996880  31.914112  32.565609  32.406544  5211260\n",
      "2022-01-07  32.542667  32.822536  32.148102  32.551846  32.392849  4390115\n",
      "Successfully downloaded data for RAND\n",
      "                 Open       High        Low      Close  Adj Close  Volume\n",
      "Date                                                                     \n",
      "2022-01-03  60.200001  60.720001  59.980000  60.000000  49.302544  229776\n",
      "2022-01-04  60.279999  61.200001  60.240002  60.880001  50.025650  360462\n",
      "2022-01-05  60.680000  61.500000  60.680000  60.900002  50.042084  254493\n",
      "2022-01-06  60.099998  60.860001  59.880001  60.820000  49.976345  331332\n",
      "2022-01-07  60.959999  61.119999  60.020000  60.240002  49.499756  384853\n",
      "Successfully downloaded data for REN\n",
      "                 Open       High        Low      Close  Adj Close   Volume\n",
      "Date                                                                      \n",
      "2022-01-03  29.610001  29.610001  28.230000  28.230000  27.218254   644373\n",
      "2022-01-04  28.629999  28.660000  28.250000  28.410000  27.391802  1244751\n",
      "2022-01-05  28.250000  28.400000  28.040001  28.120001  27.112198  1470389\n",
      "2022-01-06  27.510000  27.549999  26.549999  26.809999  25.849146  1480994\n",
      "2022-01-07  26.680000  26.760000  26.410000  26.690001  25.733448  1173686\n",
      "Downloaded data for RDSA is empty.\n",
      "Successfully downloaded data for UNA\n",
      "                 Open       High        Low      Close  Adj Close   Volume\n",
      "Date                                                                      \n",
      "2022-01-03  47.470001  47.470001  46.935001  47.310001  43.565701  1303603\n",
      "2022-01-04  47.500000  47.930000  47.209999  47.919998  44.127422  1765588\n",
      "2022-01-05  47.610001  47.645000  47.235001  47.365002  43.616348  1431121\n",
      "2022-01-06  47.055000  47.189999  46.720001  46.985001  43.266422  1673254\n",
      "2022-01-07  46.810001  47.195000  46.709999  47.195000  43.459808  1487969\n"
     ]
    },
    {
     "name": "stderr",
     "output_type": "stream",
     "text": [
      "\n",
      "\r",
      "[*********************100%%**********************]  1 of 1 completed"
     ]
    },
    {
     "name": "stdout",
     "output_type": "stream",
     "text": [
      "Successfully downloaded data for UMG\n",
      "                 Open       High        Low      Close  Adj Close   Volume\n",
      "Date                                                                      \n",
      "2022-01-03  25.004999  25.225000  24.420000  24.465000  23.358332   926120\n",
      "2022-01-04  24.799999  25.105000  24.565001  24.565001  23.453808  1873835\n",
      "2022-01-05  24.750000  25.014999  24.475000  24.475000  23.367878  1311264\n",
      "2022-01-06  24.100000  24.264999  23.139999  23.485001  22.422661  2183063\n",
      "2022-01-07  23.549999  23.730000  23.285000  23.650000  22.580196  1655225\n",
      "Successfully downloaded data for WKL\n",
      "                  Open        High         Low       Close  Adj Close  Volume\n",
      "Date                                                                         \n",
      "2022-01-03  104.800003  104.800003  102.349998  102.449997  99.018166  160007\n",
      "2022-01-04  103.150002  103.349998  102.050003  102.449997  99.018166  292400\n",
      "2022-01-05  102.199997  102.650002  101.250000  101.800003  98.389946  230509\n",
      "2022-01-06  100.250000  100.550003   97.220001   97.519997  94.253319  396809\n",
      "2022-01-07   97.519997   97.959999   96.919998   97.339996  94.079346  408411\n",
      "Failed to download data for the following stocks: ['DSM', 'EXOR', 'RDSA']\n"
     ]
    },
    {
     "name": "stderr",
     "output_type": "stream",
     "text": [
      "\n"
     ]
    }
   ],
   "source": [
    "# List of AEX stocks\n",
    "aex_stocks = df[\"Ticker symbol\"].tolist()\n",
    "start_date ='2022-01-01'\n",
    "end_date = '2022-12-31'\n",
    "\n",
    "# Download historical data for each stock\n",
    "failed_stocks = []\n",
    "for stock in aex_stocks:\n",
    "    try:\n",
    "        data = yf.download(stock + \".AS\", start='2022-01-01', end='2022-12-31')  # Append \".AS\" for Amsterdam exchange\n",
    "        if not data.empty:\n",
    "            print(f\"Successfully downloaded data for {stock}\")\n",
    "            # Process the data as needed\n",
    "            print(data.head())  # Example: Print the first few rows of data\n",
    "        else:\n",
    "            print(f\"Downloaded data for {stock} is empty.\")\n",
    "            failed_stocks.append(stock)\n",
    "    except Exception as e:\n",
    "        print(f\"Failed to download data for {stock}: {e}\")\n",
    "        failed_stocks.append(stock)\n",
    "\n",
    "# Print failed stocks\n",
    "print(\"Failed to download data for the following stocks:\", failed_stocks)\n"
   ]
  },
  {
   "cell_type": "code",
   "execution_count": 9,
   "metadata": {},
   "outputs": [],
   "source": [
    "# Define ticker symbols for AEX stocks\n",
    "#aex_stocks = ['UNA.AS', 'INGA.AS', 'ASML.AS', 'PHIA.AS', 'AD.AS']\n",
    "#aex_stocks = df[\"Ticker symbol\"].tolist()\n",
    "# Fetch historical data for each stock\n",
    "#for stock in aex_stocks:\n",
    "    #data = yf.download(stock, start='2022-01-01', end='2022-12-31')  # Example date range\n",
    "    # Process the data as needed\n",
    "   # print(data.head())  # Example: Print the first few rows of data\n"
   ]
  },
  {
   "cell_type": "code",
   "execution_count": null,
   "metadata": {},
   "outputs": [],
   "source": []
  }
 ],
 "metadata": {
  "kernelspec": {
   "display_name": "Python 3",
   "language": "python",
   "name": "python3"
  },
  "language_info": {
   "codemirror_mode": {
    "name": "ipython",
    "version": 3
   },
   "file_extension": ".py",
   "mimetype": "text/x-python",
   "name": "python",
   "nbconvert_exporter": "python",
   "pygments_lexer": "ipython3",
   "version": "3.8.3"
  }
 },
 "nbformat": 4,
 "nbformat_minor": 4
}
