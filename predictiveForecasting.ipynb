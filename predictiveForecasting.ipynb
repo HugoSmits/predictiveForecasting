{
 "cells": [
  {
   "cell_type": "markdown",
   "metadata": {},
   "source": [
    "# Introduction\n",
    "Central class"
   ]
  },
  {
   "cell_type": "markdown",
   "metadata": {},
   "source": [
    "# Pre - Amble"
   ]
  },
  {
   "cell_type": "code",
   "execution_count": 1,
   "metadata": {},
   "outputs": [],
   "source": [
    "import os\n",
    "import time\n",
    "\n",
    "import pandas as pd\n",
    "import numpy as np\n",
    "import matplotlib.pyplot as plt\n",
    "import seaborn as sns\n",
    "import yfinance as yf"
   ]
  },
  {
   "cell_type": "code",
   "execution_count": 2,
   "metadata": {},
   "outputs": [
    {
     "name": "stdout",
     "output_type": "stream",
     "text": [
      "0.2.37\n"
     ]
    }
   ],
   "source": [
    "print(yf.__version__)  # Prints the version of pandas"
   ]
  },
  {
   "cell_type": "code",
   "execution_count": 3,
   "metadata": {},
   "outputs": [
    {
     "name": "stderr",
     "output_type": "stream",
     "text": [
      "[*********************100%%**********************]  1 of 1 completed\n"
     ]
    },
    {
     "name": "stdout",
     "output_type": "stream",
     "text": [
      "                 Open       High        Low      Close  Adj Close   Volume\n",
      "Date                                                                      \n",
      "2022-01-03  47.470001  47.470001  46.935001  47.310001  43.565704  1303603\n",
      "2022-01-04  47.500000  47.930000  47.209999  47.919998  44.127422  1765588\n",
      "2022-01-05  47.610001  47.645000  47.235001  47.365002  43.616352  1431121\n",
      "2022-01-06  47.055000  47.189999  46.720001  46.985001  43.266430  1673254\n",
      "2022-01-07  46.810001  47.195000  46.709999  47.195000  43.459805  1487969\n"
     ]
    },
    {
     "name": "stderr",
     "output_type": "stream",
     "text": [
      "[*********************100%%**********************]  1 of 1 completed\n"
     ]
    },
    {
     "name": "stdout",
     "output_type": "stream",
     "text": [
      "              Open    High     Low   Close  Adj Close    Volume\n",
      "Date                                                           \n",
      "2022-01-03  12.346  12.512  12.314  12.460  10.642340  10989201\n",
      "2022-01-04  12.580  12.798  12.512  12.700  10.847328  14102522\n",
      "2022-01-05  12.736  12.940  12.736  12.836  10.963490  11304458\n",
      "2022-01-06  12.730  12.936  12.666  12.916  11.031818  12607169\n",
      "2022-01-07  12.964  13.074  12.856  13.074  11.166769  14819325\n"
     ]
    },
    {
     "name": "stderr",
     "output_type": "stream",
     "text": [
      "[*********************100%%**********************]  1 of 1 completed\n"
     ]
    },
    {
     "name": "stdout",
     "output_type": "stream",
     "text": [
      "                  Open        High         Low       Close   Adj Close  Volume\n",
      "Date                                                                          \n",
      "2022-01-03  709.000000  716.900024  693.599976  701.700012  685.094788  547270\n",
      "2022-01-04  708.700012  712.799988  674.700012  681.299988  665.177551  618866\n",
      "2022-01-05  687.099976  692.799988  669.299988  670.900024  655.023743  655169\n",
      "2022-01-06  650.700012  660.700012  636.700012  658.500000  642.917114  975136\n",
      "2022-01-07  675.000000  678.500000  655.500000  664.900024  649.165771  964639\n"
     ]
    },
    {
     "name": "stderr",
     "output_type": "stream",
     "text": [
      "[*********************100%%**********************]  1 of 1 completed\n"
     ]
    },
    {
     "name": "stdout",
     "output_type": "stream",
     "text": [
      "                 Open       High        Low      Close  Adj Close   Volume\n",
      "Date                                                                      \n",
      "2022-01-03  31.383368  31.799770  31.292431  31.732763  30.586201  2064125\n",
      "2022-01-04  32.120449  32.244892  31.809343  32.063015  30.904520  3177645\n",
      "2022-01-05  32.120449  32.158737  31.723190  31.799770  30.650787  2514904\n",
      "2022-01-06  31.416872  31.737551  31.153629  31.302002  30.171005  2394863\n",
      "2022-01-07  31.254141  31.574818  31.105766  31.574818  30.433962  2460314\n"
     ]
    },
    {
     "name": "stderr",
     "output_type": "stream",
     "text": [
      "\r",
      "[*********************100%%**********************]  1 of 1 completed"
     ]
    },
    {
     "name": "stdout",
     "output_type": "stream",
     "text": [
      "                 Open       High        Low      Close  Adj Close   Volume\n",
      "Date                                                                      \n",
      "2022-01-03  30.415001  30.834999  30.190001  30.530001  28.468636  1849550\n",
      "2022-01-04  30.719999  30.780001  30.320000  30.465000  28.408026  1674656\n",
      "2022-01-05  30.594999  30.895000  30.450001  30.790001  28.711082  2325077\n",
      "2022-01-06  30.650000  30.959999  30.459999  30.620001  28.552561  2520480\n",
      "2022-01-07  30.605000  30.879999  30.424999  30.504999  28.445322  2086783\n"
     ]
    },
    {
     "name": "stderr",
     "output_type": "stream",
     "text": [
      "\n"
     ]
    }
   ],
   "source": [
    "# Define ticker symbols for AEX stocks\n",
    "#RDS.AS\n",
    "aex_stocks = ['UNA.AS', 'INGA.AS', 'ASML.AS', 'PHIA.AS', 'AD.AS']\n",
    "\n",
    "# Fetch historical data for each stock\n",
    "for stock in aex_stocks:\n",
    "    data = yf.download(stock, start='2022-01-01', end='2022-12-31')  # Example date range\n",
    "    # Process the data as needed\n",
    "    print(data.head())  # Example: Print the first few rows of data\n"
   ]
  },
  {
   "cell_type": "code",
   "execution_count": null,
   "metadata": {},
   "outputs": [],
   "source": []
  }
 ],
 "metadata": {
  "kernelspec": {
   "display_name": "Python 3",
   "language": "python",
   "name": "python3"
  },
  "language_info": {
   "codemirror_mode": {
    "name": "ipython",
    "version": 3
   },
   "file_extension": ".py",
   "mimetype": "text/x-python",
   "name": "python",
   "nbconvert_exporter": "python",
   "pygments_lexer": "ipython3",
   "version": "3.8.3"
  }
 },
 "nbformat": 4,
 "nbformat_minor": 4
}
