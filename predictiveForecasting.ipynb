{
 "cells": [
  {
   "cell_type": "markdown",
   "metadata": {},
   "source": [
    "# Introduction\n",
    "Fetching and cleaning the data"
   ]
  },
  {
   "cell_type": "markdown",
   "metadata": {},
   "source": [
    "# Pre - Amble"
   ]
  },
  {
   "cell_type": "code",
   "execution_count": 1,
   "metadata": {},
   "outputs": [],
   "source": [
    "import os\n",
    "import time\n",
    "\n",
    "import pandas as pd\n",
    "import numpy as np\n",
    "import matplotlib.pyplot as plt\n",
    "import seaborn as sns\n",
    "\n",
    "import yfinance as yf\n",
    "import requests\n",
    "from bs4 import BeautifulSoup"
   ]
  },
  {
   "cell_type": "code",
   "execution_count": 2,
   "metadata": {},
   "outputs": [
    {
     "name": "stdout",
     "output_type": "stream",
     "text": [
      "0.2.37\n"
     ]
    }
   ],
   "source": [
    "print(yf.__version__)  # Prints the version of pandas"
   ]
  },
  {
   "cell_type": "code",
   "execution_count": 7,
   "metadata": {},
   "outputs": [
    {
     "name": "stdout",
     "output_type": "stream",
     "text": [
      "['Ticker', 'Tickers', '__all__', '__author__', '__builtins__', '__cached__', '__doc__', '__file__', '__loader__', '__name__', '__package__', '__path__', '__spec__', '__version__', 'base', 'cache', 'const', 'data', 'download', 'enable_debug_mode', 'exceptions', 'multi', 'pdr_override', 'scrapers', 'set_tz_cache_location', 'shared', 'ticker', 'tickers', 'utils', 'version']\n"
     ]
    }
   ],
   "source": [
    "#print(dir(yf))"
   ]
  },
  {
   "cell_type": "code",
   "execution_count": 10,
   "metadata": {},
   "outputs": [
    {
     "name": "stdout",
     "output_type": "stream",
     "text": [
      "['__class__', '__delattr__', '__dict__', '__dir__', '__doc__', '__eq__', '__format__', '__ge__', '__getattribute__', '__gt__', '__hash__', '__init__', '__init_subclass__', '__le__', '__lt__', '__module__', '__ne__', '__new__', '__reduce__', '__reduce_ex__', '__repr__', '__setattr__', '__sizeof__', '__str__', '__subclasshook__', '__weakref__', '_download_options', '_fetch_ticker_tz', '_get_ticker_tz', '_lazy_load_price_history', '_options2df', 'actions', 'analyst_price_target', 'balance_sheet', 'balancesheet', 'basic_info', 'calendar', 'capital_gains', 'cash_flow', 'cashflow', 'dividends', 'earnings', 'earnings_dates', 'earnings_forecasts', 'earnings_trend', 'fast_info', 'financials', 'get_actions', 'get_analyst_price_target', 'get_balance_sheet', 'get_balancesheet', 'get_calendar', 'get_capital_gains', 'get_cash_flow', 'get_cashflow', 'get_dividends', 'get_earnings', 'get_earnings_dates', 'get_earnings_forecast', 'get_earnings_trend', 'get_fast_info', 'get_financials', 'get_history_metadata', 'get_income_stmt', 'get_incomestmt', 'get_info', 'get_insider_purchases', 'get_insider_roster_holders', 'get_insider_transactions', 'get_institutional_holders', 'get_isin', 'get_major_holders', 'get_mutualfund_holders', 'get_news', 'get_recommendations', 'get_recommendations_summary', 'get_rev_forecast', 'get_shares', 'get_shares_full', 'get_splits', 'get_sustainability', 'get_trend_details', 'get_upgrades_downgrades', 'history', 'history_metadata', 'income_stmt', 'incomestmt', 'info', 'insider_purchases', 'insider_roster_holders', 'insider_transactions', 'institutional_holders', 'isin', 'major_holders', 'mutualfund_holders', 'news', 'option_chain', 'options', 'quarterly_balance_sheet', 'quarterly_balancesheet', 'quarterly_cash_flow', 'quarterly_cashflow', 'quarterly_earnings', 'quarterly_financials', 'quarterly_income_stmt', 'quarterly_incomestmt', 'recommendations', 'recommendations_summary', 'revenue_forecasts', 'shares', 'splits', 'sustainability', 'trend_details', 'upgrades_downgrades']\n"
     ]
    }
   ],
   "source": [
    "#print(dir(yf.Ticker))"
   ]
  },
  {
   "cell_type": "code",
   "execution_count": 11,
   "metadata": {},
   "outputs": [
    {
     "name": "stdout",
     "output_type": "stream",
     "text": [
      "['__class__', '__delattr__', '__dict__', '__dir__', '__doc__', '__eq__', '__format__', '__ge__', '__getattribute__', '__gt__', '__hash__', '__init__', '__init_subclass__', '__le__', '__lt__', '__module__', '__ne__', '__new__', '__reduce__', '__reduce_ex__', '__repr__', '__setattr__', '__sizeof__', '__str__', '__subclasshook__', '__weakref__', 'download', 'history', 'news']\n"
     ]
    }
   ],
   "source": [
    "#print(dir(yf.Tickers))"
   ]
  },
  {
   "cell_type": "code",
   "execution_count": 21,
   "metadata": {},
   "outputs": [
    {
     "name": "stdout",
     "output_type": "stream",
     "text": [
      "DataFrame for the second table on AEX index:\n",
      "                  Company                            Sector Ticker symbol\n",
      "0           ABN AMRO Bank                  Bankactiviteiten           ABN\n",
      "1                   Adyen       Betalingsverwerkingsbedrijf         ADYEN\n",
      "2                   Aegon               Levensverzekeringen           AGN\n",
      "3          Ahold Delhaize            Supermarkten en retail            AD\n",
      "4              Akzo Nobel         Verf- en coatingfabrikant          AKZA\n",
      "5           ArcelorMittal                    IJzer en staal            MT\n",
      "6       ASM International             Halfgeleiderindustrie           ASM\n",
      "7                    ASML                      Chipmachines          ASML\n",
      "8           ASR Nederland                     Verzekeringen         ASRNL\n",
      "9                    Besi             Halfgeleiderindustrie          BESI\n",
      "10                    DSM         Chemie- en biotechnologie           DSM\n",
      "11                   Exor          Investeringsmaatschappij          EXOR\n",
      "12               Heineken                       Bierbrouwer          HEIA\n",
      "13                   IMCD            Chemicaliëndistributie          IMCD\n",
      "14              ING Group                  Bankactiviteiten          INGA\n",
      "15                    KPN                  Telecommunicatie           KPN\n",
      "16  Nationale Nederlanden               Levensverzekeringen            NN\n",
      "17                Philips              Medische technologie          PHIA\n",
      "18                 Prosus               Internettechnologie           PRX\n",
      "19       Randstad Holding                Uitzendonderneming          RAND\n",
      "20                   RELX                        Uitgeverij           REN\n",
      "21              Shell plc                       Olie en gas          RDSA\n",
      "22               Unilever  Voedsel- en verzorgingsproducten           UNA\n",
      "23  Universal Music Group                    Muziekuitgever           UMG\n",
      "24         Wolters Kluwer                        Uitgeverij           WKL\n"
     ]
    }
   ],
   "source": [
    "import requests\n",
    "from bs4 import BeautifulSoup\n",
    "import pandas as pd\n",
    "\n",
    "# URL of the Wikipedia page for the AEX index\n",
    "url = \"https://nl.wikipedia.org/wiki/AEX\"\n",
    "\n",
    "# Send a GET request to the Wikipedia page\n",
    "response = requests.get(url)\n",
    "\n",
    "# Check if the request was successful (status code 200)\n",
    "if response.status_code == 200:\n",
    "    # Parse the HTML content of the page using BeautifulSoup\n",
    "    soup = BeautifulSoup(response.text, \"html.parser\")\n",
    "    \n",
    "    # Find all tables on the page\n",
    "    tables = soup.find_all(\"table\", class_=\"wikitable sortable\")\n",
    "    \n",
    "    # Check if there are at least two tables\n",
    "    if len(tables) >= 2:\n",
    "        # Extract the second table (index 1)\n",
    "        table = tables[1]\n",
    "        \n",
    "        # Extract the rows from the table\n",
    "        rows = table.find_all(\"tr\")\n",
    "        \n",
    "        # Extract the column headers\n",
    "        headers = [header.text.strip() for header in rows[0].find_all(\"th\")]\n",
    "        \n",
    "        # Extract the data from the table rows\n",
    "        data = []\n",
    "        for row in rows[1:]:\n",
    "            data.append([cell.text.strip() for cell in row.find_all(\"td\")])\n",
    "        \n",
    "        # Convert the data to a DataFrame\n",
    "        df = pd.DataFrame(data, columns=headers)\n",
    "        \n",
    "        # Print the DataFrame\n",
    "        print(\"DataFrame for the second table on AEX index:\")\n",
    "        print(df)\n",
    "    else:\n",
    "        print(\"Second table not found on the page.\")\n",
    "else:\n",
    "    print(\"Failed to retrieve data from Wikipedia.\")\n"
   ]
  },
  {
   "cell_type": "code",
   "execution_count": 5,
   "metadata": {},
   "outputs": [
    {
     "name": "stderr",
     "output_type": "stream",
     "text": [
      "[*********************100%%**********************]  1 of 1 completed\n",
      "[*********************100%%**********************]  1 of 1 completed\n"
     ]
    },
    {
     "name": "stdout",
     "output_type": "stream",
     "text": [
      "                 Open       High        Low      Close  Adj Close   Volume\n",
      "Date                                                                      \n",
      "2022-01-03  47.470001  47.470001  46.935001  47.310001  43.565701  1303603\n",
      "2022-01-04  47.500000  47.930000  47.209999  47.919998  44.127426  1765588\n",
      "2022-01-05  47.610001  47.645000  47.235001  47.365002  43.616348  1431121\n",
      "2022-01-06  47.055000  47.189999  46.720001  46.985001  43.266430  1673254\n",
      "2022-01-07  46.810001  47.195000  46.709999  47.195000  43.459808  1487969\n",
      "              Open    High     Low   Close  Adj Close    Volume\n",
      "Date                                                           \n",
      "2022-01-03  12.346  12.512  12.314  12.460  10.642340  10989201\n",
      "2022-01-04  12.580  12.798  12.512  12.700  10.847329  14102522\n",
      "2022-01-05  12.736  12.940  12.736  12.836  10.963489  11304458\n",
      "2022-01-06  12.730  12.936  12.666  12.916  11.031818  12607169\n",
      "2022-01-07  12.964  13.074  12.856  13.074  11.166769  14819325\n"
     ]
    },
    {
     "name": "stderr",
     "output_type": "stream",
     "text": [
      "[*********************100%%**********************]  1 of 1 completed\n",
      "[*********************100%%**********************]  1 of 1 completed\n"
     ]
    },
    {
     "name": "stdout",
     "output_type": "stream",
     "text": [
      "                  Open        High         Low       Close   Adj Close  Volume\n",
      "Date                                                                          \n",
      "2022-01-03  709.000000  716.900024  693.599976  701.700012  685.094849  547270\n",
      "2022-01-04  708.700012  712.799988  674.700012  681.299988  665.177734  618866\n",
      "2022-01-05  687.099976  692.799988  669.299988  670.900024  655.023743  655169\n",
      "2022-01-06  650.700012  660.700012  636.700012  658.500000  642.917175  975136\n",
      "2022-01-07  675.000000  678.500000  655.500000  664.900024  649.165649  964639\n",
      "                 Open       High        Low      Close  Adj Close   Volume\n",
      "Date                                                                      \n",
      "2022-01-03  31.383368  31.799770  31.292431  31.732763  30.586201  2064125\n",
      "2022-01-04  32.120449  32.244892  31.809343  32.063015  30.904520  3177645\n",
      "2022-01-05  32.120449  32.158737  31.723190  31.799770  30.650787  2514904\n",
      "2022-01-06  31.416872  31.737551  31.153629  31.302002  30.171005  2394863\n",
      "2022-01-07  31.254141  31.574818  31.105766  31.574818  30.433962  2460314\n"
     ]
    },
    {
     "name": "stderr",
     "output_type": "stream",
     "text": [
      "\r",
      "[*********************100%%**********************]  1 of 1 completed"
     ]
    },
    {
     "name": "stdout",
     "output_type": "stream",
     "text": [
      "                 Open       High        Low      Close  Adj Close   Volume\n",
      "Date                                                                      \n",
      "2022-01-03  30.415001  30.834999  30.190001  30.530001  28.468636  1849550\n",
      "2022-01-04  30.719999  30.780001  30.320000  30.465000  28.408024  1674656\n",
      "2022-01-05  30.594999  30.895000  30.450001  30.790001  28.711081  2325077\n",
      "2022-01-06  30.650000  30.959999  30.459999  30.620001  28.552561  2520480\n",
      "2022-01-07  30.605000  30.879999  30.424999  30.504999  28.445324  2086783\n"
     ]
    },
    {
     "name": "stderr",
     "output_type": "stream",
     "text": [
      "\n"
     ]
    }
   ],
   "source": [
    "# Define ticker symbols for AEX stocks\n",
    "#RDS.AS\n",
    "aex_stocks = ['UNA.AS', 'INGA.AS', 'ASML.AS', 'PHIA.AS', 'AD.AS']\n",
    "\n",
    "# Fetch historical data for each stock\n",
    "for stock in aex_stocks:\n",
    "    data = yf.download(stock, start='2022-01-01', end='2022-12-31')  # Example date range\n",
    "    # Process the data as needed\n",
    "    print(data.head())  # Example: Print the first few rows of data\n"
   ]
  },
  {
   "cell_type": "code",
   "execution_count": null,
   "metadata": {},
   "outputs": [],
   "source": []
  }
 ],
 "metadata": {
  "kernelspec": {
   "display_name": "Python 3",
   "language": "python",
   "name": "python3"
  },
  "language_info": {
   "codemirror_mode": {
    "name": "ipython",
    "version": 3
   },
   "file_extension": ".py",
   "mimetype": "text/x-python",
   "name": "python",
   "nbconvert_exporter": "python",
   "pygments_lexer": "ipython3",
   "version": "3.8.3"
  }
 },
 "nbformat": 4,
 "nbformat_minor": 4
}
