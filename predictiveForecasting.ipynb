{
 "cells": [
  {
   "cell_type": "code",
   "execution_count": 1,
   "metadata": {},
   "outputs": [],
   "source": [
    "import os\n",
    "import pandas as pd\n",
    "import numpy as np\n",
    "import matplotlib.pyplot as plt\n",
    "import seaborn as sns\n",
    "\n",
    "from statsmodels.tsa.arima.model import ARIMA"
   ]
  },
  {
   "cell_type": "code",
   "execution_count": 2,
   "metadata": {},
   "outputs": [
    {
     "name": "stdout",
     "output_type": "stream",
     "text": [
      "Files and directories in aex_data/ :\n",
      ".ipynb_checkpoints\n",
      "ABN_data_2022-01-01_2022-12-31.csv\n",
      "ADYEN_data_2022-01-01_2022-12-31.csv\n",
      "AD_data_2022-01-01_2022-12-31.csv\n",
      "AGN_data_2022-01-01_2022-12-31.csv\n",
      "AKZA_data_2022-01-01_2022-12-31.csv\n",
      "ASML_data_2022-01-01_2022-12-31.csv\n",
      "ASM_data_2022-01-01_2022-12-31.csv\n",
      "ASRNL_data_2022-01-01_2022-12-31.csv\n",
      "BESI_data_2022-01-01_2022-12-31.csv\n",
      "HEIA_data_2022-01-01_2022-12-31.csv\n",
      "IMCD_data_2022-01-01_2022-12-31.csv\n",
      "INGA_data_2022-01-01_2022-12-31.csv\n",
      "KPN_data_2022-01-01_2022-12-31.csv\n",
      "MT_data_2022-01-01_2022-12-31.csv\n",
      "NN_data_2022-01-01_2022-12-31.csv\n",
      "PHIA_data_2022-01-01_2022-12-31.csv\n",
      "PRX_data_2022-01-01_2022-12-31.csv\n",
      "RAND_data_2022-01-01_2022-12-31.csv\n",
      "REN_data_2022-01-01_2022-12-31.csv\n",
      "UMG_data_2022-01-01_2022-12-31.csv\n",
      "UNA_data_2022-01-01_2022-12-31.csv\n",
      "WKL_data_2022-01-01_2022-12-31.csv\n"
     ]
    }
   ],
   "source": [
    "import os\n",
    "\n",
    "# Directory path\n",
    "directory = \"aex_data/\"\n",
    "\n",
    "# List files and directories in the directory\n",
    "files_and_directories = os.listdir(directory)\n",
    "\n",
    "# Print the list\n",
    "print(\"Files and directories in\", directory, \":\")\n",
    "for item in files_and_directories:\n",
    "    print(item)\n"
   ]
  },
  {
   "cell_type": "code",
   "execution_count": 3,
   "metadata": {},
   "outputs": [],
   "source": [
    "df_ABN = pd.read_csv(\"aex_data/ABN_data_2022-01-01_2022-12-31.csv\")"
   ]
  },
  {
   "cell_type": "code",
   "execution_count": 4,
   "metadata": {},
   "outputs": [
    {
     "data": {
      "text/html": [
       "<div>\n",
       "<style scoped>\n",
       "    .dataframe tbody tr th:only-of-type {\n",
       "        vertical-align: middle;\n",
       "    }\n",
       "\n",
       "    .dataframe tbody tr th {\n",
       "        vertical-align: top;\n",
       "    }\n",
       "\n",
       "    .dataframe thead th {\n",
       "        text-align: right;\n",
       "    }\n",
       "</style>\n",
       "<table border=\"1\" class=\"dataframe\">\n",
       "  <thead>\n",
       "    <tr style=\"text-align: right;\">\n",
       "      <th></th>\n",
       "      <th>Open</th>\n",
       "      <th>High</th>\n",
       "      <th>Low</th>\n",
       "      <th>Close</th>\n",
       "      <th>Adj Close</th>\n",
       "      <th>Volume</th>\n",
       "    </tr>\n",
       "  </thead>\n",
       "  <tbody>\n",
       "    <tr>\n",
       "      <th>0</th>\n",
       "      <td>12.986</td>\n",
       "      <td>13.160</td>\n",
       "      <td>12.962</td>\n",
       "      <td>13.132</td>\n",
       "      <td>11.097252</td>\n",
       "      <td>2182042</td>\n",
       "    </tr>\n",
       "    <tr>\n",
       "      <th>1</th>\n",
       "      <td>13.300</td>\n",
       "      <td>13.910</td>\n",
       "      <td>13.240</td>\n",
       "      <td>13.848</td>\n",
       "      <td>11.702311</td>\n",
       "      <td>4522246</td>\n",
       "    </tr>\n",
       "    <tr>\n",
       "      <th>2</th>\n",
       "      <td>13.910</td>\n",
       "      <td>14.346</td>\n",
       "      <td>13.886</td>\n",
       "      <td>14.092</td>\n",
       "      <td>11.908505</td>\n",
       "      <td>3625228</td>\n",
       "    </tr>\n",
       "    <tr>\n",
       "      <th>3</th>\n",
       "      <td>14.000</td>\n",
       "      <td>14.262</td>\n",
       "      <td>13.930</td>\n",
       "      <td>14.130</td>\n",
       "      <td>11.940617</td>\n",
       "      <td>2792021</td>\n",
       "    </tr>\n",
       "    <tr>\n",
       "      <th>4</th>\n",
       "      <td>14.220</td>\n",
       "      <td>14.220</td>\n",
       "      <td>13.934</td>\n",
       "      <td>14.100</td>\n",
       "      <td>11.915266</td>\n",
       "      <td>3078482</td>\n",
       "    </tr>\n",
       "    <tr>\n",
       "      <th>...</th>\n",
       "      <td>...</td>\n",
       "      <td>...</td>\n",
       "      <td>...</td>\n",
       "      <td>...</td>\n",
       "      <td>...</td>\n",
       "      <td>...</td>\n",
       "    </tr>\n",
       "    <tr>\n",
       "      <th>252</th>\n",
       "      <td>13.160</td>\n",
       "      <td>13.240</td>\n",
       "      <td>13.125</td>\n",
       "      <td>13.215</td>\n",
       "      <td>12.096783</td>\n",
       "      <td>1342483</td>\n",
       "    </tr>\n",
       "    <tr>\n",
       "      <th>253</th>\n",
       "      <td>13.235</td>\n",
       "      <td>13.325</td>\n",
       "      <td>13.155</td>\n",
       "      <td>13.190</td>\n",
       "      <td>12.073897</td>\n",
       "      <td>881020</td>\n",
       "    </tr>\n",
       "    <tr>\n",
       "      <th>254</th>\n",
       "      <td>13.210</td>\n",
       "      <td>13.210</td>\n",
       "      <td>13.035</td>\n",
       "      <td>13.060</td>\n",
       "      <td>11.954899</td>\n",
       "      <td>1096527</td>\n",
       "    </tr>\n",
       "    <tr>\n",
       "      <th>255</th>\n",
       "      <td>13.000</td>\n",
       "      <td>13.135</td>\n",
       "      <td>12.850</td>\n",
       "      <td>13.080</td>\n",
       "      <td>11.973206</td>\n",
       "      <td>1250228</td>\n",
       "    </tr>\n",
       "    <tr>\n",
       "      <th>256</th>\n",
       "      <td>13.080</td>\n",
       "      <td>13.145</td>\n",
       "      <td>12.905</td>\n",
       "      <td>12.925</td>\n",
       "      <td>11.831322</td>\n",
       "      <td>796906</td>\n",
       "    </tr>\n",
       "  </tbody>\n",
       "</table>\n",
       "<p>257 rows × 6 columns</p>\n",
       "</div>"
      ],
      "text/plain": [
       "       Open    High     Low   Close  Adj Close   Volume\n",
       "0    12.986  13.160  12.962  13.132  11.097252  2182042\n",
       "1    13.300  13.910  13.240  13.848  11.702311  4522246\n",
       "2    13.910  14.346  13.886  14.092  11.908505  3625228\n",
       "3    14.000  14.262  13.930  14.130  11.940617  2792021\n",
       "4    14.220  14.220  13.934  14.100  11.915266  3078482\n",
       "..      ...     ...     ...     ...        ...      ...\n",
       "252  13.160  13.240  13.125  13.215  12.096783  1342483\n",
       "253  13.235  13.325  13.155  13.190  12.073897   881020\n",
       "254  13.210  13.210  13.035  13.060  11.954899  1096527\n",
       "255  13.000  13.135  12.850  13.080  11.973206  1250228\n",
       "256  13.080  13.145  12.905  12.925  11.831322   796906\n",
       "\n",
       "[257 rows x 6 columns]"
      ]
     },
     "execution_count": 4,
     "metadata": {},
     "output_type": "execute_result"
    }
   ],
   "source": [
    "df_ABN"
   ]
  },
  {
   "cell_type": "markdown",
   "metadata": {},
   "source": [
    "- Trading Days: Stock markets are not open on weekends and holidays, so there are typically fewer than 365 trading days in a year. In 2022, for example, there were approximately 252 trading days on the Amsterdam Stock Exchange.\n",
    "\n",
    "- Data Availability: Sometimes data providers like Yahoo Finance may not have data available for all trading days, especially for older data or for less liquid stocks.\n",
    "\n",
    "- Corporate Actions: There might be corporate actions such as stock splits, dividends, or other adjustments that could affect the number of rows in the dataset. These actions can lead to gaps in the data.\n",
    "\n",
    "- Data Quality: Occasionally, there may be errors or missing data in the dataset, leading to fewer rows than expected."
   ]
  },
  {
   "cell_type": "code",
   "execution_count": 5,
   "metadata": {},
   "outputs": [],
   "source": [
    "class stockPredictor:\n",
    "    def __init__(self, stock_data):\n",
    "        self.stock_data = stock_data\n",
    "        \n",
    "    def describe_stock_data(self):\n",
    "        print(self.stock_data.head(3))\n",
    "        print(self.stock_data.shape)\n",
    "        print(self.stock_data.dtypes)\n",
    "        print(self.stock_data.dtypes.unique())\n",
    "    \n",
    "    def describe_columns(self):\n",
    "        print(\"\"\"\n",
    "        Open - Opening price of the stock at the beginning of the trading day\n",
    "        High - Highest value that the stock reached on that day\n",
    "        Low - Lowest value that the stock reached on that day\n",
    "        Close - Closing value that the stock reached on that day\n",
    "        Adj Close - The adjusted closing price is the closing price of the stock adjusted\n",
    "        to include any corporate actions that occurred before the next trading day's open.\n",
    "        Volume - Number of stocks traded that day\n",
    "        \"\"\")\n",
    "    \n",
    "    def timeSeriesArima(self):\n",
    "        # Load stock market data \n",
    "\n",
    "        # Assuming 'Close' prices are in a column named 'Close'\n",
    "        # For simplicity, we'll work with a single stock's closing prices\n",
    "\n",
    "        stock_prices_close = self.stock_data[\"Close\"]\n",
    "\n",
    "        # Plot the time series data\n",
    "        plt.plot(stock_prices_close)\n",
    "        plt.title('Stock Prices Over Time')\n",
    "        plt.xlabel('Time')\n",
    "        plt.ylabel('Price')\n",
    "        plt.show()\n",
    "\n",
    "        # Fit ARIMA model\n",
    "        model = ARIMA(stock_prices_close, order=(1, 1, 1))  # Example order, replace with appropriate values\n",
    "        model_fit = model.fit()\n",
    "\n",
    "        # Summary of the model\n",
    "        print(model_fit.summary())\n",
    "\n",
    "        # Forecast future values\n",
    "        forecast = model_fit.forecast(steps=5)  # Example steps for forecasting 5 future time points\n",
    "        print(\"Forecasted values:\", forecast)\n"
   ]
  },
  {
   "cell_type": "code",
   "execution_count": 6,
   "metadata": {},
   "outputs": [
    {
     "name": "stdout",
     "output_type": "stream",
     "text": [
      "     Open    High     Low   Close  Adj Close   Volume\n",
      "0  12.986  13.160  12.962  13.132  11.097252  2182042\n",
      "1  13.300  13.910  13.240  13.848  11.702311  4522246\n",
      "2  13.910  14.346  13.886  14.092  11.908505  3625228\n",
      "(257, 6)\n",
      "Open         float64\n",
      "High         float64\n",
      "Low          float64\n",
      "Close        float64\n",
      "Adj Close    float64\n",
      "Volume         int64\n",
      "dtype: object\n",
      "[dtype('float64') dtype('int64')]\n"
     ]
    }
   ],
   "source": [
    "sp_ABN = stockPredictor(df_ABN)\n",
    "sp_ABN.describe_stock_data()"
   ]
  },
  {
   "cell_type": "code",
   "execution_count": 7,
   "metadata": {},
   "outputs": [
    {
     "name": "stdout",
     "output_type": "stream",
     "text": [
      "\n",
      "        Open - Opening price of the stock at the beginning of the trading day\n",
      "        High - Highest value that the stock reached on that day\n",
      "        Low - Lowest value that the stock reached on that day\n",
      "        Close - Closing value that the stock reached on that day\n",
      "        Adj Close - The adjusted closing price is the closing price of the stock adjusted\n",
      "        to include any corporate actions that occurred before the next trading day's open.\n",
      "        Volume - Number of stocks traded that day\n",
      "        \n"
     ]
    }
   ],
   "source": [
    "sp_ABN.describe_columns()"
   ]
  },
  {
   "cell_type": "code",
   "execution_count": 8,
   "metadata": {},
   "outputs": [
    {
     "data": {
      "image/png": "[encoded data removed]",
      "text/plain": [
       "<Figure size 432x288 with 1 Axes>"
      ]
     },
     "metadata": {
      "needs_background": "light"
     },
     "output_type": "display_data"
    },
    {
     "name": "stdout",
     "output_type": "stream",
     "text": [
      "                               SARIMAX Results                                \n",
      "==============================================================================\n",
      "Dep. Variable:                  Close   No. Observations:                  257\n",
      "Model:                 ARIMA(1, 1, 1)   Log Likelihood                 -34.425\n",
      "Date:                Wed, 10 Apr 2024   AIC                             74.849\n",
      "Time:                        20:47:07   BIC                             85.485\n",
      "Sample:                             0   HQIC                            79.127\n",
      "                                - 257                                         \n",
      "Covariance Type:                  opg                                         \n",
      "==============================================================================\n",
      "                 coef    std err          z      P>|z|      [0.025      0.975]\n",
      "------------------------------------------------------------------------------\n",
      "ar.L1         -0.5231      0.264     -1.982      0.047      -1.040      -0.006\n",
      "ma.L1          0.6723      0.232      2.901      0.004       0.218       1.127\n",
      "sigma2         0.0766      0.003     23.043      0.000       0.070       0.083\n",
      "===================================================================================\n",
      "Ljung-Box (L1) (Q):                   0.04   Jarque-Bera (JB):               475.03\n",
      "Prob(Q):                              0.84   Prob(JB):                         0.00\n",
      "Heteroskedasticity (H):               0.32   Skew:                            -1.11\n",
      "Prob(H) (two-sided):                  0.00   Kurtosis:                         9.29\n",
      "===================================================================================\n",
      "\n",
      "Warnings:\n",
      "[1] Covariance matrix calculated using the outer product of gradients (complex-step).\n",
      "Forecasted values: 257    12.897218\n",
      "258    12.911750\n",
      "259    12.904149\n",
      "260    12.908125\n",
      "261    12.906045\n",
      "Name: predicted_mean, dtype: float64\n"
     ]
    }
   ],
   "source": [
    "sp_ABN.timeSeriesArima()"
   ]
  },
  {
   "cell_type": "code",
   "execution_count": null,
   "metadata": {},
   "outputs": [],
   "source": []
  }
 ],
 "metadata": {
  "kernelspec": {
   "display_name": "Python 3",
   "language": "python",
   "name": "python3"
  },
  "language_info": {
   "codemirror_mode": {
    "name": "ipython",
    "version": 3
   },
   "file_extension": ".py",
   "mimetype": "text/x-python",
   "name": "python",
   "nbconvert_exporter": "python",
   "pygments_lexer": "ipython3",
   "version": "3.8.3"
  }
 },
 "nbformat": 4,
 "nbformat_minor": 4
}
