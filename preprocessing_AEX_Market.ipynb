{
 "cells": [
  {
   "cell_type": "markdown",
   "metadata": {},
   "source": [
    "# Introduction\n",
    "\n",
    "Fetching the data from AEX for all the stocks scraped from the list acquired on wikipedia"
   ]
  },
  {
   "cell_type": "markdown",
   "metadata": {},
   "source": [
    "## Preamble"
   ]
  },
  {
   "cell_type": "code",
   "execution_count": 1,
   "metadata": {},
   "outputs": [],
   "source": [
    "import os\n",
    "import time\n",
    "\n",
    "import pandas as pd\n",
    "import numpy as np\n",
    "import matplotlib.pyplot as plt\n",
    "import seaborn as sns\n",
    "\n",
    "import yfinance as yf\n",
    "import requests\n",
    "from bs4 import BeautifulSoup"
   ]
  },
  {
   "cell_type": "code",
   "execution_count": 2,
   "metadata": {},
   "outputs": [
    {
     "name": "stdout",
     "output_type": "stream",
     "text": [
      "0.2.37\n"
     ]
    }
   ],
   "source": [
    "print(yf.__version__)  # Prints the version of pandas"
   ]
  },
  {
   "cell_type": "code",
   "execution_count": 3,
   "metadata": {},
   "outputs": [],
   "source": [
    "cwd = os.getcwd()"
   ]
  },
  {
   "cell_type": "code",
   "execution_count": 4,
   "metadata": {},
   "outputs": [],
   "source": [
    "#print(dir(yf))"
   ]
  },
  {
   "cell_type": "code",
   "execution_count": 5,
   "metadata": {},
   "outputs": [],
   "source": [
    "#print(dir(yf.Ticker))"
   ]
  },
  {
   "cell_type": "code",
   "execution_count": 6,
   "metadata": {},
   "outputs": [],
   "source": [
    "#print(dir(yf.Tickers))"
   ]
  },
  {
   "cell_type": "markdown",
   "metadata": {},
   "source": [
    "## Web Scraper"
   ]
  },
  {
   "cell_type": "code",
   "execution_count": 7,
   "metadata": {},
   "outputs": [],
   "source": [
    "import requests\n",
    "from bs4 import BeautifulSoup\n",
    "import pandas as pd\n",
    "\n",
    "# URL of the Wikipedia page for the AEX index\n",
    "url = \"https://nl.wikipedia.org/wiki/AEX\"\n",
    "\n",
    "# Send a GET request to the Wikipedia page\n",
    "response = requests.get(url)\n",
    "\n",
    "# Check if the request was successful (status code 200)\n",
    "if response.status_code == 200:\n",
    "    # Parse the HTML content of the page using BeautifulSoup\n",
    "    soup = BeautifulSoup(response.text, \"html.parser\")\n",
    "    \n",
    "    # Find all tables on the page\n",
    "    tables = soup.find_all(\"table\", class_=\"wikitable sortable\")\n",
    "    \n",
    "    # Check if there are at least two tables\n",
    "    if len(tables) >= 2:\n",
    "        # Extract the second table (index 1)\n",
    "        table = tables[1]\n",
    "        \n",
    "        # Extract the rows from the table\n",
    "        rows = table.find_all(\"tr\")\n",
    "        \n",
    "        # Extract the column headers\n",
    "        headers = [header.text.strip() for header in rows[0].find_all(\"th\")]\n",
    "        \n",
    "        # Extract the data from the table rows\n",
    "        data = []\n",
    "        for row in rows[1:]:\n",
    "            data.append([cell.text.strip() for cell in row.find_all(\"td\")])\n",
    "        \n",
    "        # Convert the data to a DataFrame\n",
    "        df = pd.DataFrame(data, columns=headers)\n",
    "        \n",
    "        # Print the DataFrame\n",
    "        #print(\"DataFrame for the second table on AEX index:\")\n",
    "        #print(df)\n",
    "    else:\n",
    "        print(\"Second table not found on the page.\")\n",
    "else:\n",
    "    print(\"Failed to retrieve data from Wikipedia.\")\n"
   ]
  },
  {
   "cell_type": "code",
   "execution_count": 8,
   "metadata": {},
   "outputs": [
    {
     "name": "stdout",
     "output_type": "stream",
     "text": [
      "['ABN', 'ADYEN', 'AGN', 'AD', 'AKZA', 'MT', 'ASM', 'ASML', 'ASRNL', 'BESI', 'DSM', 'EXOR', 'HEIA', 'IMCD', 'INGA', 'KPN', 'NN', 'PHIA', 'PRX', 'RAND', 'REN', 'RDSA', 'UNA', 'UMG', 'WKL']\n"
     ]
    }
   ],
   "source": [
    "print(df[\"Ticker symbol\"].tolist())"
   ]
  },
  {
   "cell_type": "markdown",
   "metadata": {},
   "source": [
    "## Check Available Dates"
   ]
  },
  {
   "cell_type": "code",
   "execution_count": 9,
   "metadata": {},
   "outputs": [
    {
     "name": "stderr",
     "output_type": "stream",
     "text": [
      "DSM.AS: No timezone found, symbol may be delisted\n",
      "EXOR.AS: No timezone found, symbol may be delisted\n",
      "RDSA.AS: No timezone found, symbol may be delisted\n"
     ]
    },
    {
     "name": "stdout",
     "output_type": "stream",
     "text": [
      "Available dates for ABN: DatetimeIndex(['2015-11-20 00:00:00+01:00', '2015-11-23 00:00:00+01:00',\n",
      "               '2015-11-24 00:00:00+01:00', '2015-11-25 00:00:00+01:00',\n",
      "               '2015-11-26 00:00:00+01:00', '2015-11-27 00:00:00+01:00',\n",
      "               '2015-11-30 00:00:00+01:00', '2015-12-01 00:00:00+01:00',\n",
      "               '2015-12-02 00:00:00+01:00', '2015-12-03 00:00:00+01:00',\n",
      "               ...\n",
      "               '2024-03-28 00:00:00+01:00', '2024-04-02 00:00:00+02:00',\n",
      "               '2024-04-03 00:00:00+02:00', '2024-04-04 00:00:00+02:00',\n",
      "               '2024-04-05 00:00:00+02:00', '2024-04-08 00:00:00+02:00',\n",
      "               '2024-04-09 00:00:00+02:00', '2024-04-10 00:00:00+02:00',\n",
      "               '2024-04-11 00:00:00+02:00', '2024-04-12 00:00:00+02:00'],\n",
      "              dtype='datetime64[ns, Europe/Amsterdam]', name='Date', length=2149, freq=None)\n",
      "Available dates for ADYEN: DatetimeIndex(['2018-06-13 00:00:00+02:00', '2018-06-14 00:00:00+02:00',\n",
      "               '2018-06-15 00:00:00+02:00', '2018-06-18 00:00:00+02:00',\n",
      "               '2018-06-19 00:00:00+02:00', '2018-06-20 00:00:00+02:00',\n",
      "               '2018-06-21 00:00:00+02:00', '2018-06-22 00:00:00+02:00',\n",
      "               '2018-06-25 00:00:00+02:00', '2018-06-26 00:00:00+02:00',\n",
      "               ...\n",
      "               '2024-03-28 00:00:00+01:00', '2024-04-02 00:00:00+02:00',\n",
      "               '2024-04-03 00:00:00+02:00', '2024-04-04 00:00:00+02:00',\n",
      "               '2024-04-05 00:00:00+02:00', '2024-04-08 00:00:00+02:00',\n",
      "               '2024-04-09 00:00:00+02:00', '2024-04-10 00:00:00+02:00',\n",
      "               '2024-04-11 00:00:00+02:00', '2024-04-12 00:00:00+02:00'],\n",
      "              dtype='datetime64[ns, Europe/Amsterdam]', name='Date', length=1496, freq=None)\n",
      "Available dates for AGN: DatetimeIndex(['1995-03-27 00:00:00+02:00', '1995-03-28 00:00:00+02:00',\n",
      "               '1995-03-29 00:00:00+02:00', '1995-03-30 00:00:00+02:00',\n",
      "               '1995-03-31 00:00:00+02:00', '1995-04-03 00:00:00+02:00',\n",
      "               '1995-04-04 00:00:00+02:00', '1995-04-05 00:00:00+02:00',\n",
      "               '1995-04-06 00:00:00+02:00', '1995-04-07 00:00:00+02:00',\n",
      "               ...\n",
      "               '2024-03-28 00:00:00+01:00', '2024-04-02 00:00:00+02:00',\n",
      "               '2024-04-03 00:00:00+02:00', '2024-04-04 00:00:00+02:00',\n",
      "               '2024-04-05 00:00:00+02:00', '2024-04-08 00:00:00+02:00',\n",
      "               '2024-04-09 00:00:00+02:00', '2024-04-10 00:00:00+02:00',\n",
      "               '2024-04-11 00:00:00+02:00', '2024-04-12 00:00:00+02:00'],\n",
      "              dtype='datetime64[ns, Europe/Amsterdam]', name='Date', length=7492, freq=None)\n",
      "Available dates for AD: DatetimeIndex(['2008-10-24 00:00:00+02:00', '2008-10-27 00:00:00+01:00',\n",
      "               '2008-10-28 00:00:00+01:00', '2008-10-29 00:00:00+01:00',\n",
      "               '2008-10-30 00:00:00+01:00', '2008-10-31 00:00:00+01:00',\n",
      "               '2008-11-03 00:00:00+01:00', '2008-11-04 00:00:00+01:00',\n",
      "               '2008-11-05 00:00:00+01:00', '2008-11-06 00:00:00+01:00',\n",
      "               ...\n",
      "               '2024-03-28 00:00:00+01:00', '2024-04-02 00:00:00+02:00',\n",
      "               '2024-04-03 00:00:00+02:00', '2024-04-04 00:00:00+02:00',\n",
      "               '2024-04-05 00:00:00+02:00', '2024-04-08 00:00:00+02:00',\n",
      "               '2024-04-09 00:00:00+02:00', '2024-04-10 00:00:00+02:00',\n",
      "               '2024-04-11 00:00:00+02:00', '2024-04-12 00:00:00+02:00'],\n",
      "              dtype='datetime64[ns, Europe/Amsterdam]', name='Date', length=3959, freq=None)\n",
      "Available dates for AKZA: DatetimeIndex(['1995-03-27 00:00:00+02:00', '1995-03-28 00:00:00+02:00',\n",
      "               '1995-03-29 00:00:00+02:00', '1995-03-30 00:00:00+02:00',\n",
      "               '1995-03-31 00:00:00+02:00', '1995-04-03 00:00:00+02:00',\n",
      "               '1995-04-04 00:00:00+02:00', '1995-04-05 00:00:00+02:00',\n",
      "               '1995-04-06 00:00:00+02:00', '1995-04-07 00:00:00+02:00',\n",
      "               ...\n",
      "               '2024-03-28 00:00:00+01:00', '2024-04-02 00:00:00+02:00',\n",
      "               '2024-04-03 00:00:00+02:00', '2024-04-04 00:00:00+02:00',\n",
      "               '2024-04-05 00:00:00+02:00', '2024-04-08 00:00:00+02:00',\n",
      "               '2024-04-09 00:00:00+02:00', '2024-04-10 00:00:00+02:00',\n",
      "               '2024-04-11 00:00:00+02:00', '2024-04-12 00:00:00+02:00'],\n",
      "              dtype='datetime64[ns, Europe/Amsterdam]', name='Date', length=7492, freq=None)\n",
      "Available dates for MT: DatetimeIndex(['2005-07-25 00:00:00+02:00', '2005-07-26 00:00:00+02:00',\n",
      "               '2005-07-27 00:00:00+02:00', '2005-07-28 00:00:00+02:00',\n",
      "               '2005-07-29 00:00:00+02:00', '2005-08-01 00:00:00+02:00',\n",
      "               '2005-08-02 00:00:00+02:00', '2005-08-03 00:00:00+02:00',\n",
      "               '2005-08-04 00:00:00+02:00', '2005-08-05 00:00:00+02:00',\n",
      "               ...\n",
      "               '2024-03-28 00:00:00+01:00', '2024-04-02 00:00:00+02:00',\n",
      "               '2024-04-03 00:00:00+02:00', '2024-04-04 00:00:00+02:00',\n",
      "               '2024-04-05 00:00:00+02:00', '2024-04-08 00:00:00+02:00',\n",
      "               '2024-04-09 00:00:00+02:00', '2024-04-10 00:00:00+02:00',\n",
      "               '2024-04-11 00:00:00+02:00', '2024-04-12 00:00:00+02:00'],\n",
      "              dtype='datetime64[ns, Europe/Amsterdam]', name='Date', length=4797, freq=None)\n",
      "Available dates for ASM: DatetimeIndex(['1999-01-06 00:00:00+01:00', '1999-01-07 00:00:00+01:00',\n",
      "               '1999-01-08 00:00:00+01:00', '1999-01-11 00:00:00+01:00',\n",
      "               '1999-01-12 00:00:00+01:00', '1999-01-13 00:00:00+01:00',\n",
      "               '1999-01-14 00:00:00+01:00', '1999-01-15 00:00:00+01:00',\n",
      "               '1999-01-18 00:00:00+01:00', '1999-01-19 00:00:00+01:00',\n",
      "               ...\n",
      "               '2024-03-28 00:00:00+01:00', '2024-04-02 00:00:00+02:00',\n",
      "               '2024-04-03 00:00:00+02:00', '2024-04-04 00:00:00+02:00',\n",
      "               '2024-04-05 00:00:00+02:00', '2024-04-08 00:00:00+02:00',\n",
      "               '2024-04-09 00:00:00+02:00', '2024-04-10 00:00:00+02:00',\n",
      "               '2024-04-11 00:00:00+02:00', '2024-04-12 00:00:00+02:00'],\n",
      "              dtype='datetime64[ns, Europe/Amsterdam]', name='Date', length=6505, freq=None)\n",
      "Available dates for ASML: DatetimeIndex(['1998-07-20 00:00:00+02:00', '1998-07-21 00:00:00+02:00',\n",
      "               '1998-07-22 00:00:00+02:00', '1998-07-23 00:00:00+02:00',\n",
      "               '1998-07-24 00:00:00+02:00', '1998-07-27 00:00:00+02:00',\n",
      "               '1998-07-28 00:00:00+02:00', '1998-07-29 00:00:00+02:00',\n",
      "               '1998-07-30 00:00:00+02:00', '1998-07-31 00:00:00+02:00',\n",
      "               ...\n",
      "               '2024-03-28 00:00:00+01:00', '2024-04-02 00:00:00+02:00',\n",
      "               '2024-04-03 00:00:00+02:00', '2024-04-04 00:00:00+02:00',\n",
      "               '2024-04-05 00:00:00+02:00', '2024-04-08 00:00:00+02:00',\n",
      "               '2024-04-09 00:00:00+02:00', '2024-04-10 00:00:00+02:00',\n",
      "               '2024-04-11 00:00:00+02:00', '2024-04-12 00:00:00+02:00'],\n",
      "              dtype='datetime64[ns, Europe/Amsterdam]', name='Date', length=6627, freq=None)\n",
      "Available dates for ASRNL: DatetimeIndex(['2016-06-10 00:00:00+02:00', '2016-06-13 00:00:00+02:00',\n",
      "               '2016-06-14 00:00:00+02:00', '2016-06-15 00:00:00+02:00',\n",
      "               '2016-06-16 00:00:00+02:00', '2016-06-17 00:00:00+02:00',\n",
      "               '2016-06-20 00:00:00+02:00', '2016-06-21 00:00:00+02:00',\n",
      "               '2016-06-22 00:00:00+02:00', '2016-06-23 00:00:00+02:00',\n",
      "               ...\n",
      "               '2024-03-28 00:00:00+01:00', '2024-04-02 00:00:00+02:00',\n",
      "               '2024-04-03 00:00:00+02:00', '2024-04-04 00:00:00+02:00',\n",
      "               '2024-04-05 00:00:00+02:00', '2024-04-08 00:00:00+02:00',\n",
      "               '2024-04-09 00:00:00+02:00', '2024-04-10 00:00:00+02:00',\n",
      "               '2024-04-11 00:00:00+02:00', '2024-04-12 00:00:00+02:00'],\n",
      "              dtype='datetime64[ns, Europe/Amsterdam]', name='Date', length=2009, freq=None)\n",
      "Available dates for BESI: DatetimeIndex(['1998-07-20 00:00:00+02:00', '1998-07-21 00:00:00+02:00',\n",
      "               '1998-07-22 00:00:00+02:00', '1998-07-23 00:00:00+02:00',\n",
      "               '1998-07-24 00:00:00+02:00', '1998-07-27 00:00:00+02:00',\n",
      "               '1998-07-28 00:00:00+02:00', '1998-07-29 00:00:00+02:00',\n",
      "               '1998-07-30 00:00:00+02:00', '1998-07-31 00:00:00+02:00',\n",
      "               ...\n",
      "               '2024-03-28 00:00:00+01:00', '2024-04-02 00:00:00+02:00',\n",
      "               '2024-04-03 00:00:00+02:00', '2024-04-04 00:00:00+02:00',\n",
      "               '2024-04-05 00:00:00+02:00', '2024-04-08 00:00:00+02:00',\n",
      "               '2024-04-09 00:00:00+02:00', '2024-04-10 00:00:00+02:00',\n",
      "               '2024-04-11 00:00:00+02:00', '2024-04-12 00:00:00+02:00'],\n",
      "              dtype='datetime64[ns, Europe/Amsterdam]', name='Date', length=6627, freq=None)\n",
      "Available dates for DSM: Index([], dtype='object', name='Date')\n",
      "Available dates for EXOR: Index([], dtype='object', name='Date')\n",
      "Available dates for HEIA: DatetimeIndex(['1995-03-27 00:00:00+02:00', '1995-03-28 00:00:00+02:00',\n",
      "               '1995-03-29 00:00:00+02:00', '1995-03-30 00:00:00+02:00',\n",
      "               '1995-03-31 00:00:00+02:00', '1995-04-03 00:00:00+02:00',\n",
      "               '1995-04-04 00:00:00+02:00', '1995-04-05 00:00:00+02:00',\n",
      "               '1995-04-06 00:00:00+02:00', '1995-04-07 00:00:00+02:00',\n",
      "               ...\n",
      "               '2024-03-28 00:00:00+01:00', '2024-04-02 00:00:00+02:00',\n",
      "               '2024-04-03 00:00:00+02:00', '2024-04-04 00:00:00+02:00',\n",
      "               '2024-04-05 00:00:00+02:00', '2024-04-08 00:00:00+02:00',\n",
      "               '2024-04-09 00:00:00+02:00', '2024-04-10 00:00:00+02:00',\n",
      "               '2024-04-11 00:00:00+02:00', '2024-04-12 00:00:00+02:00'],\n",
      "              dtype='datetime64[ns, Europe/Amsterdam]', name='Date', length=7492, freq=None)\n",
      "Available dates for IMCD: DatetimeIndex(['2014-06-27 00:00:00+02:00', '2014-06-30 00:00:00+02:00',\n",
      "               '2014-07-01 00:00:00+02:00', '2014-07-02 00:00:00+02:00',\n",
      "               '2014-07-03 00:00:00+02:00', '2014-07-04 00:00:00+02:00',\n",
      "               '2014-07-07 00:00:00+02:00', '2014-07-08 00:00:00+02:00',\n",
      "               '2014-07-09 00:00:00+02:00', '2014-07-10 00:00:00+02:00',\n",
      "               ...\n",
      "               '2024-03-28 00:00:00+01:00', '2024-04-02 00:00:00+02:00',\n",
      "               '2024-04-03 00:00:00+02:00', '2024-04-04 00:00:00+02:00',\n",
      "               '2024-04-05 00:00:00+02:00', '2024-04-08 00:00:00+02:00',\n",
      "               '2024-04-09 00:00:00+02:00', '2024-04-10 00:00:00+02:00',\n",
      "               '2024-04-11 00:00:00+02:00', '2024-04-12 00:00:00+02:00'],\n",
      "              dtype='datetime64[ns, Europe/Amsterdam]', name='Date', length=2508, freq=None)\n",
      "Available dates for INGA: DatetimeIndex(['1995-03-27 00:00:00+02:00', '1995-03-28 00:00:00+02:00',\n",
      "               '1995-03-29 00:00:00+02:00', '1995-03-30 00:00:00+02:00',\n",
      "               '1995-03-31 00:00:00+02:00', '1995-04-03 00:00:00+02:00',\n",
      "               '1995-04-04 00:00:00+02:00', '1995-04-05 00:00:00+02:00',\n",
      "               '1995-04-06 00:00:00+02:00', '1995-04-07 00:00:00+02:00',\n",
      "               ...\n",
      "               '2024-03-28 00:00:00+01:00', '2024-04-02 00:00:00+02:00',\n",
      "               '2024-04-03 00:00:00+02:00', '2024-04-04 00:00:00+02:00',\n",
      "               '2024-04-05 00:00:00+02:00', '2024-04-08 00:00:00+02:00',\n",
      "               '2024-04-09 00:00:00+02:00', '2024-04-10 00:00:00+02:00',\n",
      "               '2024-04-11 00:00:00+02:00', '2024-04-12 00:00:00+02:00'],\n",
      "              dtype='datetime64[ns, Europe/Amsterdam]', name='Date', length=7492, freq=None)\n",
      "Available dates for KPN: DatetimeIndex(['1995-03-27 00:00:00+02:00', '1995-03-28 00:00:00+02:00',\n",
      "               '1995-03-29 00:00:00+02:00', '1995-03-30 00:00:00+02:00',\n",
      "               '1995-03-31 00:00:00+02:00', '1995-04-03 00:00:00+02:00',\n",
      "               '1995-04-04 00:00:00+02:00', '1995-04-05 00:00:00+02:00',\n",
      "               '1995-04-06 00:00:00+02:00', '1995-04-07 00:00:00+02:00',\n",
      "               ...\n",
      "               '2024-03-28 00:00:00+01:00', '2024-04-02 00:00:00+02:00',\n",
      "               '2024-04-03 00:00:00+02:00', '2024-04-04 00:00:00+02:00',\n",
      "               '2024-04-05 00:00:00+02:00', '2024-04-08 00:00:00+02:00',\n",
      "               '2024-04-09 00:00:00+02:00', '2024-04-10 00:00:00+02:00',\n",
      "               '2024-04-11 00:00:00+02:00', '2024-04-12 00:00:00+02:00'],\n",
      "              dtype='datetime64[ns, Europe/Amsterdam]', name='Date', length=7492, freq=None)\n",
      "Available dates for NN: DatetimeIndex(['2014-07-02 00:00:00+02:00', '2014-07-03 00:00:00+02:00',\n",
      "               '2014-07-04 00:00:00+02:00', '2014-07-07 00:00:00+02:00',\n",
      "               '2014-07-08 00:00:00+02:00', '2014-07-09 00:00:00+02:00',\n",
      "               '2014-07-10 00:00:00+02:00', '2014-07-11 00:00:00+02:00',\n",
      "               '2014-07-14 00:00:00+02:00', '2014-07-15 00:00:00+02:00',\n",
      "               ...\n",
      "               '2024-03-28 00:00:00+01:00', '2024-04-02 00:00:00+02:00',\n",
      "               '2024-04-03 00:00:00+02:00', '2024-04-04 00:00:00+02:00',\n",
      "               '2024-04-05 00:00:00+02:00', '2024-04-08 00:00:00+02:00',\n",
      "               '2024-04-09 00:00:00+02:00', '2024-04-10 00:00:00+02:00',\n",
      "               '2024-04-11 00:00:00+02:00', '2024-04-12 00:00:00+02:00'],\n",
      "              dtype='datetime64[ns, Europe/Amsterdam]', name='Date', length=2505, freq=None)\n",
      "Available dates for PHIA: DatetimeIndex(['1995-03-27 00:00:00+02:00', '1995-03-28 00:00:00+02:00',\n",
      "               '1995-03-29 00:00:00+02:00', '1995-03-30 00:00:00+02:00',\n",
      "               '1995-03-31 00:00:00+02:00', '1995-04-03 00:00:00+02:00',\n",
      "               '1995-04-04 00:00:00+02:00', '1995-04-05 00:00:00+02:00',\n",
      "               '1995-04-06 00:00:00+02:00', '1995-04-07 00:00:00+02:00',\n",
      "               ...\n",
      "               '2024-03-28 00:00:00+01:00', '2024-04-02 00:00:00+02:00',\n",
      "               '2024-04-03 00:00:00+02:00', '2024-04-04 00:00:00+02:00',\n",
      "               '2024-04-05 00:00:00+02:00', '2024-04-08 00:00:00+02:00',\n",
      "               '2024-04-09 00:00:00+02:00', '2024-04-10 00:00:00+02:00',\n",
      "               '2024-04-11 00:00:00+02:00', '2024-04-12 00:00:00+02:00'],\n",
      "              dtype='datetime64[ns, Europe/Amsterdam]', name='Date', length=7492, freq=None)\n",
      "Available dates for PRX: DatetimeIndex(['2019-09-11 00:00:00+02:00', '2019-09-12 00:00:00+02:00',\n",
      "               '2019-09-13 00:00:00+02:00', '2019-09-16 00:00:00+02:00',\n",
      "               '2019-09-17 00:00:00+02:00', '2019-09-18 00:00:00+02:00',\n",
      "               '2019-09-19 00:00:00+02:00', '2019-09-20 00:00:00+02:00',\n",
      "               '2019-09-23 00:00:00+02:00', '2019-09-24 00:00:00+02:00',\n",
      "               ...\n",
      "               '2024-03-28 00:00:00+01:00', '2024-04-02 00:00:00+02:00',\n",
      "               '2024-04-03 00:00:00+02:00', '2024-04-04 00:00:00+02:00',\n",
      "               '2024-04-05 00:00:00+02:00', '2024-04-08 00:00:00+02:00',\n",
      "               '2024-04-09 00:00:00+02:00', '2024-04-10 00:00:00+02:00',\n",
      "               '2024-04-11 00:00:00+02:00', '2024-04-12 00:00:00+02:00'],\n",
      "              dtype='datetime64[ns, Europe/Amsterdam]', name='Date', length=1177, freq=None)\n",
      "Available dates for RAND: DatetimeIndex(['1995-05-11 00:00:00+02:00', '1995-05-12 00:00:00+02:00',\n",
      "               '1995-05-15 00:00:00+02:00', '1995-05-16 00:00:00+02:00',\n",
      "               '1995-05-17 00:00:00+02:00', '1995-05-18 00:00:00+02:00',\n",
      "               '1995-05-19 00:00:00+02:00', '1995-05-22 00:00:00+02:00',\n",
      "               '1995-05-23 00:00:00+02:00', '1995-05-24 00:00:00+02:00',\n",
      "               ...\n",
      "               '2024-03-28 00:00:00+01:00', '2024-04-02 00:00:00+02:00',\n",
      "               '2024-04-03 00:00:00+02:00', '2024-04-04 00:00:00+02:00',\n",
      "               '2024-04-05 00:00:00+02:00', '2024-04-08 00:00:00+02:00',\n",
      "               '2024-04-09 00:00:00+02:00', '2024-04-10 00:00:00+02:00',\n",
      "               '2024-04-11 00:00:00+02:00', '2024-04-12 00:00:00+02:00'],\n",
      "              dtype='datetime64[ns, Europe/Amsterdam]', name='Date', length=7459, freq=None)\n",
      "Available dates for REN: DatetimeIndex(['1995-03-27 00:00:00+02:00', '1995-03-28 00:00:00+02:00',\n",
      "               '1995-03-29 00:00:00+02:00', '1995-03-30 00:00:00+02:00',\n",
      "               '1995-03-31 00:00:00+02:00', '1995-04-03 00:00:00+02:00',\n",
      "               '1995-04-04 00:00:00+02:00', '1995-04-05 00:00:00+02:00',\n",
      "               '1995-04-06 00:00:00+02:00', '1995-04-07 00:00:00+02:00',\n",
      "               ...\n",
      "               '2024-03-28 00:00:00+01:00', '2024-04-02 00:00:00+02:00',\n",
      "               '2024-04-03 00:00:00+02:00', '2024-04-04 00:00:00+02:00',\n",
      "               '2024-04-05 00:00:00+02:00', '2024-04-08 00:00:00+02:00',\n",
      "               '2024-04-09 00:00:00+02:00', '2024-04-10 00:00:00+02:00',\n",
      "               '2024-04-11 00:00:00+02:00', '2024-04-12 00:00:00+02:00'],\n",
      "              dtype='datetime64[ns, Europe/Amsterdam]', name='Date', length=7492, freq=None)\n",
      "Available dates for RDSA: Index([], dtype='object', name='Date')\n",
      "Available dates for UNA: DatetimeIndex(['2020-12-04 00:00:00+01:00', '2020-12-07 00:00:00+01:00',\n",
      "               '2020-12-08 00:00:00+01:00', '2020-12-09 00:00:00+01:00',\n",
      "               '2020-12-10 00:00:00+01:00', '2020-12-11 00:00:00+01:00',\n",
      "               '2020-12-14 00:00:00+01:00', '2020-12-15 00:00:00+01:00',\n",
      "               '2020-12-16 00:00:00+01:00', '2020-12-17 00:00:00+01:00',\n",
      "               ...\n",
      "               '2024-03-28 00:00:00+01:00', '2024-04-02 00:00:00+02:00',\n",
      "               '2024-04-03 00:00:00+02:00', '2024-04-04 00:00:00+02:00',\n",
      "               '2024-04-05 00:00:00+02:00', '2024-04-08 00:00:00+02:00',\n",
      "               '2024-04-09 00:00:00+02:00', '2024-04-10 00:00:00+02:00',\n",
      "               '2024-04-11 00:00:00+02:00', '2024-04-12 00:00:00+02:00'],\n",
      "              dtype='datetime64[ns, Europe/Amsterdam]', name='Date', length=861, freq=None)\n",
      "Available dates for UMG: DatetimeIndex(['2021-09-21 00:00:00+02:00', '2021-09-22 00:00:00+02:00',\n",
      "               '2021-09-23 00:00:00+02:00', '2021-09-24 00:00:00+02:00',\n",
      "               '2021-09-27 00:00:00+02:00', '2021-09-28 00:00:00+02:00',\n",
      "               '2021-09-29 00:00:00+02:00', '2021-09-30 00:00:00+02:00',\n",
      "               '2021-10-01 00:00:00+02:00', '2021-10-04 00:00:00+02:00',\n",
      "               ...\n",
      "               '2024-03-28 00:00:00+01:00', '2024-04-02 00:00:00+02:00',\n",
      "               '2024-04-03 00:00:00+02:00', '2024-04-04 00:00:00+02:00',\n",
      "               '2024-04-05 00:00:00+02:00', '2024-04-08 00:00:00+02:00',\n",
      "               '2024-04-09 00:00:00+02:00', '2024-04-10 00:00:00+02:00',\n",
      "               '2024-04-11 00:00:00+02:00', '2024-04-12 00:00:00+02:00'],\n",
      "              dtype='datetime64[ns, Europe/Amsterdam]', name='Date', length=658, freq=None)\n",
      "Available dates for WKL: DatetimeIndex(['1995-03-27 00:00:00+02:00', '1995-03-28 00:00:00+02:00',\n",
      "               '1995-03-29 00:00:00+02:00', '1995-03-30 00:00:00+02:00',\n",
      "               '1995-03-31 00:00:00+02:00', '1995-04-03 00:00:00+02:00',\n",
      "               '1995-04-04 00:00:00+02:00', '1995-04-05 00:00:00+02:00',\n",
      "               '1995-04-06 00:00:00+02:00', '1995-04-07 00:00:00+02:00',\n",
      "               ...\n",
      "               '2024-03-28 00:00:00+01:00', '2024-04-02 00:00:00+02:00',\n",
      "               '2024-04-03 00:00:00+02:00', '2024-04-04 00:00:00+02:00',\n",
      "               '2024-04-05 00:00:00+02:00', '2024-04-08 00:00:00+02:00',\n",
      "               '2024-04-09 00:00:00+02:00', '2024-04-10 00:00:00+02:00',\n",
      "               '2024-04-11 00:00:00+02:00', '2024-04-12 00:00:00+02:00'],\n",
      "              dtype='datetime64[ns, Europe/Amsterdam]', name='Date', length=7492, freq=None)\n"
     ]
    }
   ],
   "source": [
    "# List of stock symbols\n",
    "stocks = df[\"Ticker symbol\"].tolist()\n",
    "aex_exchange_stringcode = \".AS\"\n",
    "\n",
    "# Dictionary to store available dates for each stock\n",
    "available_dates = {}\n",
    "\n",
    "# Fetch available dates for each stock\n",
    "for stock_symbol in stocks:\n",
    "    try:\n",
    "        # Fetch historical data for the stock\n",
    "        stock_data = yf.Ticker(stock_symbol + aex_exchange_stringcode).history(period='max')\n",
    "        \n",
    "        # Get the available dates\n",
    "        available_dates[stock_symbol] = stock_data.index\n",
    "    except Exception as e:\n",
    "        print(f\"Error fetching data for {stock_symbol}: {e}\")\n",
    "\n",
    "# Print available dates for each stock\n",
    "for stock_symbol, dates in available_dates.items():\n",
    "    print(f\"Available dates for {stock_symbol}: {dates}\")\n"
   ]
  },
  {
   "cell_type": "markdown",
   "metadata": {},
   "source": [
    "## Stocks Fetcher"
   ]
  },
  {
   "cell_type": "code",
   "execution_count": 10,
   "metadata": {},
   "outputs": [
    {
     "name": "stdout",
     "output_type": "stream",
     "text": [
      "Output directory 'aex_data/' already exists.\n"
     ]
    },
    {
     "name": "stderr",
     "output_type": "stream",
     "text": [
      "[*********************100%%**********************]  1 of 1 completed\n",
      "[*********************100%%**********************]  1 of 1 completed\n"
     ]
    },
    {
     "name": "stdout",
     "output_type": "stream",
     "text": [
      "Successfully downloaded and saved data for ABN.\n",
      "Successfully downloaded and saved data for ADYEN.\n"
     ]
    },
    {
     "name": "stderr",
     "output_type": "stream",
     "text": [
      "[*********************100%%**********************]  1 of 1 completed\n"
     ]
    },
    {
     "name": "stdout",
     "output_type": "stream",
     "text": [
      "Successfully downloaded and saved data for AGN.\n"
     ]
    },
    {
     "name": "stderr",
     "output_type": "stream",
     "text": [
      "[*********************100%%**********************]  1 of 1 completed\n"
     ]
    },
    {
     "name": "stdout",
     "output_type": "stream",
     "text": [
      "Successfully downloaded and saved data for AD.\n"
     ]
    },
    {
     "name": "stderr",
     "output_type": "stream",
     "text": [
      "[*********************100%%**********************]  1 of 1 completed\n"
     ]
    },
    {
     "name": "stdout",
     "output_type": "stream",
     "text": [
      "Successfully downloaded and saved data for AKZA.\n"
     ]
    },
    {
     "name": "stderr",
     "output_type": "stream",
     "text": [
      "[*********************100%%**********************]  1 of 1 completed\n"
     ]
    },
    {
     "name": "stdout",
     "output_type": "stream",
     "text": [
      "Successfully downloaded and saved data for MT.\n"
     ]
    },
    {
     "name": "stderr",
     "output_type": "stream",
     "text": [
      "[*********************100%%**********************]  1 of 1 completed\n"
     ]
    },
    {
     "name": "stdout",
     "output_type": "stream",
     "text": [
      "Successfully downloaded and saved data for ASM.\n"
     ]
    },
    {
     "name": "stderr",
     "output_type": "stream",
     "text": [
      "[*********************100%%**********************]  1 of 1 completed\n"
     ]
    },
    {
     "name": "stdout",
     "output_type": "stream",
     "text": [
      "Successfully downloaded and saved data for ASML.\n"
     ]
    },
    {
     "name": "stderr",
     "output_type": "stream",
     "text": [
      "[*********************100%%**********************]  1 of 1 completed\n"
     ]
    },
    {
     "name": "stdout",
     "output_type": "stream",
     "text": [
      "Successfully downloaded and saved data for ASRNL.\n"
     ]
    },
    {
     "name": "stderr",
     "output_type": "stream",
     "text": [
      "[*********************100%%**********************]  1 of 1 completed\n",
      "[*********************100%%**********************]  1 of 1 completed\n",
      "\n",
      "1 Failed download:\n",
      "['DSM.AS']: Exception('%ticker%: No timezone found, symbol may be delisted')\n",
      "[*********************100%%**********************]  1 of 1 completed\n",
      "\n",
      "1 Failed download:\n",
      "['EXOR.AS']: Exception('%ticker%: No timezone found, symbol may be delisted')\n"
     ]
    },
    {
     "name": "stdout",
     "output_type": "stream",
     "text": [
      "Successfully downloaded and saved data for BESI.\n",
      "Downloaded data for DSM is empty.\n",
      "Downloaded data for EXOR is empty.\n"
     ]
    },
    {
     "name": "stderr",
     "output_type": "stream",
     "text": [
      "[*********************100%%**********************]  1 of 1 completed\n",
      "[*********************100%%**********************]  1 of 1 completed"
     ]
    },
    {
     "name": "stdout",
     "output_type": "stream",
     "text": [
      "Successfully downloaded and saved data for HEIA.\n"
     ]
    },
    {
     "name": "stderr",
     "output_type": "stream",
     "text": [
      "\n"
     ]
    },
    {
     "name": "stdout",
     "output_type": "stream",
     "text": [
      "Successfully downloaded and saved data for IMCD.\n"
     ]
    },
    {
     "name": "stderr",
     "output_type": "stream",
     "text": [
      "[*********************100%%**********************]  1 of 1 completed\n"
     ]
    },
    {
     "name": "stdout",
     "output_type": "stream",
     "text": [
      "Successfully downloaded and saved data for INGA.\n"
     ]
    },
    {
     "name": "stderr",
     "output_type": "stream",
     "text": [
      "[*********************100%%**********************]  1 of 1 completed\n"
     ]
    },
    {
     "name": "stdout",
     "output_type": "stream",
     "text": [
      "Successfully downloaded and saved data for KPN.\n"
     ]
    },
    {
     "name": "stderr",
     "output_type": "stream",
     "text": [
      "[*********************100%%**********************]  1 of 1 completed\n"
     ]
    },
    {
     "name": "stdout",
     "output_type": "stream",
     "text": [
      "Successfully downloaded and saved data for NN.\n"
     ]
    },
    {
     "name": "stderr",
     "output_type": "stream",
     "text": [
      "[*********************100%%**********************]  1 of 1 completed\n"
     ]
    },
    {
     "name": "stdout",
     "output_type": "stream",
     "text": [
      "Successfully downloaded and saved data for PHIA.\n"
     ]
    },
    {
     "name": "stderr",
     "output_type": "stream",
     "text": [
      "[*********************100%%**********************]  1 of 1 completed\n"
     ]
    },
    {
     "name": "stdout",
     "output_type": "stream",
     "text": [
      "Successfully downloaded and saved data for PRX.\n"
     ]
    },
    {
     "name": "stderr",
     "output_type": "stream",
     "text": [
      "[*********************100%%**********************]  1 of 1 completed\n"
     ]
    },
    {
     "name": "stdout",
     "output_type": "stream",
     "text": [
      "Successfully downloaded and saved data for RAND.\n"
     ]
    },
    {
     "name": "stderr",
     "output_type": "stream",
     "text": [
      "[*********************100%%**********************]  1 of 1 completed\n",
      "[*********************100%%**********************]  1 of 1 completed\n",
      "\n",
      "1 Failed download:\n",
      "['RDSA.AS']: Exception('%ticker%: No timezone found, symbol may be delisted')\n"
     ]
    },
    {
     "name": "stdout",
     "output_type": "stream",
     "text": [
      "Successfully downloaded and saved data for REN.\n",
      "Downloaded data for RDSA is empty.\n"
     ]
    },
    {
     "name": "stderr",
     "output_type": "stream",
     "text": [
      "[*********************100%%**********************]  1 of 1 completed\n",
      "[*********************100%%**********************]  1 of 1 completed\n"
     ]
    },
    {
     "name": "stdout",
     "output_type": "stream",
     "text": [
      "Successfully downloaded and saved data for UNA.\n",
      "Successfully downloaded and saved data for UMG.\n"
     ]
    },
    {
     "name": "stderr",
     "output_type": "stream",
     "text": [
      "\r",
      "[*********************100%%**********************]  1 of 1 completed"
     ]
    },
    {
     "name": "stdout",
     "output_type": "stream",
     "text": [
      "Successfully downloaded and saved data for WKL.\n",
      "Failed to download data for the following stocks: ['DSM', 'EXOR', 'RDSA']\n"
     ]
    },
    {
     "name": "stderr",
     "output_type": "stream",
     "text": [
      "\n"
     ]
    }
   ],
   "source": [
    "# List of AEX stocks\n",
    "aex_stocks = df[\"Ticker symbol\"].tolist()\n",
    "#start_date ='2022-01-01'\n",
    "#end_date = '2022-12-31'\n",
    "aex_exchange_symbol = \".AS\" # Append \".AS\" for Amsterdam exchange\n",
    "\n",
    "# Directory to save the dataframes\n",
    "output_directory = \"aex_data/\" \n",
    "\n",
    "# Create the output directory if it doesn't exist\n",
    "try:\n",
    "    os.makedirs(output_directory)\n",
    "    print(f\"Output directory '{output_directory}' created successfully.\")\n",
    "except FileExistsError:\n",
    "    print(f\"Output directory '{output_directory}' already exists.\")\n",
    "\n",
    "os_path = os.path.join(cwd, output_directory)\n",
    "# Download historical data for each stock\n",
    "failed_stocks = []\n",
    "\n",
    "for stock in aex_stocks:\n",
    "    try:\n",
    "        # Fetch historical data for the stock\n",
    "        stock_data = yf.download(stock + aex_exchange_symbol, period='max')\n",
    "        \n",
    "        # Check if data is not empty\n",
    "        if not stock_data.empty:\n",
    "            # Get the maximum available start and end dates\n",
    "            start_date = stock_data.index.min().strftime('%Y-%m-%d')\n",
    "            end_date = stock_data.index.max().strftime('%Y-%m-%d')\n",
    "            \n",
    "            # Save the dataframe to CSV\n",
    "            file_path = os.path.join(os_path, f\"{stock}_data_{start_date}_{end_date}.csv\")\n",
    "            stock_data.to_csv(file_path)\n",
    "            \n",
    "            print(f\"Successfully downloaded and saved data for {stock}.\")\n",
    "        else:\n",
    "            print(f\"Downloaded data for {stock} is empty.\")\n",
    "            failed_stocks.append(stock)\n",
    "    except Exception as e:\n",
    "        print(f\"Failed to download data for {stock}: {e}\")\n",
    "        failed_stocks.append(stock)\n",
    "\n",
    "# Print failed stocks\n",
    "print(\"Failed to download data for the following stocks:\", failed_stocks)"
   ]
  }
 ],
 "metadata": {
  "kernelspec": {
   "display_name": "Python 3",
   "language": "python",
   "name": "python3"
  },
  "language_info": {
   "codemirror_mode": {
    "name": "ipython",
    "version": 3
   },
   "file_extension": ".py",
   "mimetype": "text/x-python",
   "name": "python",
   "nbconvert_exporter": "python",
   "pygments_lexer": "ipython3",
   "version": "3.8.3"
  }
 },
 "nbformat": 4,
 "nbformat_minor": 4
}
